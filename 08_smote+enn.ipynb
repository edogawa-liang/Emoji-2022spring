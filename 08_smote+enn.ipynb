{
 "cells": [
  {
   "cell_type": "markdown",
   "id": "3d147f4a",
   "metadata": {},
   "source": [
    "# 取最多的 20 組表情 group， 弄成 balance 資料\n",
    "## 目標\n",
    "> ### 1. 由 tomek link 後的資料 (767695 筆)，將前 20 高的 group 選出來\n",
    "> ### 2. smote 將少的資料補到 20 個 group 的平均\n",
    "> ### 3. enn 做 undersampling"
   ]
  },
  {
   "cell_type": "markdown",
   "id": "536b21b9",
   "metadata": {},
   "source": [
    "### 1. Tomek Link mamual : \n",
    "https://imbalanced-learn.org/stable/under_sampling.html#tomek-s-links\n",
    "### 2. smote + enn mamual : \n",
    "https://imbalanced-learn.org/stable/references/generated/imblearn.combine.SMOTEENN.html"
   ]
  },
  {
   "cell_type": "code",
   "execution_count": 95,
   "id": "2a2a52b9",
   "metadata": {},
   "outputs": [
    {
     "name": "stdout",
     "output_type": "stream",
     "text": [
      "Requirement already satisfied: imbalanced-learn in c:\\anaconda3\\envs\\ntpu_project\\lib\\site-packages (0.9.1)\n",
      "Requirement already satisfied: numpy>=1.17.3 in c:\\anaconda3\\envs\\ntpu_project\\lib\\site-packages (from imbalanced-learn) (1.20.3)\n",
      "Requirement already satisfied: scipy>=1.3.2 in c:\\anaconda3\\envs\\ntpu_project\\lib\\site-packages (from imbalanced-learn) (1.7.3)\n",
      "Requirement already satisfied: scikit-learn>=1.1.0 in c:\\anaconda3\\envs\\ntpu_project\\lib\\site-packages (from imbalanced-learn) (1.1.0)\n",
      "Requirement already satisfied: threadpoolctl>=2.0.0 in c:\\anaconda3\\envs\\ntpu_project\\lib\\site-packages (from imbalanced-learn) (2.2.0)\n",
      "Requirement already satisfied: joblib>=1.0.0 in c:\\anaconda3\\envs\\ntpu_project\\lib\\site-packages (from imbalanced-learn) (1.1.0)\n"
     ]
    }
   ],
   "source": [
    "#! pip install -U scikit-learn\n",
    "#! pip install -U imbalanced-learn"
   ]
  },
  {
   "cell_type": "code",
   "execution_count": 1,
   "id": "86e14d62",
   "metadata": {},
   "outputs": [
    {
     "name": "stdout",
     "output_type": "stream",
     "text": [
      "scikit-learn version: 1.1.0\n",
      "imbalanced-learn version: 0.9.1\n"
     ]
    }
   ],
   "source": [
    "import pandas as pd\n",
    "import numpy as np\n",
    "import matplotlib.pyplot as plt\n",
    "import pickle\n",
    "import time, math\n",
    "\n",
    "import sklearn\n",
    "print(f'scikit-learn version: {sklearn.__version__}')\n",
    "from sklearn.model_selection import train_test_split\n",
    "\n",
    "\n",
    "\n",
    "import imblearn\n",
    "\n",
    "from imblearn.combine import SMOTEENN\n",
    "print(f'imbalanced-learn version: {imblearn.__version__}')\n",
    "\n",
    "import warnings\n",
    "warnings.filterwarnings(\"ignore\")"
   ]
  },
  {
   "cell_type": "markdown",
   "id": "61ba1405",
   "metadata": {},
   "source": [
    "## 匯入資料 (使用做過 tomek link 、已取出前 20 名、已將測試集丟出去的 group 的資料)\n",
    "`20train.pkl`、`20trainlabel.pkl`"
   ]
  },
  {
   "cell_type": "code",
   "execution_count": 2,
   "id": "4a374c0f",
   "metadata": {},
   "outputs": [],
   "source": [
    "#path_ = r'C:\\Users\\e2414\\OneDrive\\桌面\\專題\\AllData\\training'  #資料從哪裡來\n",
    "path_ = r'F:\\專題\\AllData\\training\\final_training' \n",
    "\n",
    "path_test = r'F:\\專題\\AllData\\training\\final_training\\測試集再sampling'\n",
    "path_ori = r'F:\\專題\\AllData\\training\\final_training\\原始資料'\n",
    "path_imb = r'F:\\專題\\AllData\\training\\final_training\\十萬imbal'\n",
    "\n",
    "path_bal = r'F:\\專題\\AllData\\training\\final_training\\較bal'\n",
    "path_pca = r'F:\\專題\\AllData\\training\\final_training\\PCA'\n",
    "path_tse = r'F:\\專題\\AllData\\training\\final_training\\tomek_smote_enn'\n",
    "path_tsne = r'F:\\專題\\AllData\\training\\final_training\\tsne'"
   ]
  },
  {
   "cell_type": "code",
   "execution_count": 3,
   "id": "bc6d85ea",
   "metadata": {},
   "outputs": [
    {
     "name": "stdout",
     "output_type": "stream",
     "text": [
      "(745961, 20)\n",
      "745961\n",
      "Wall time: 77.8 ms\n",
      "Wall time: 77.8 ms\n"
     ]
    }
   ],
   "source": [
    "\n",
    "%%time\n",
    "with open(path_pca+ r\"/X_train_total_pc20.pkl\", \"rb\") as f:\n",
    "    train = pickle.load(f)\n",
    "    \n",
    "with open(path_ori+ r\"/y_train.pkl\", \"rb\") as f:\n",
    "    trainlabel = pickle.load(f)\n",
    "    \n",
    "print(train.shape)\n",
    "print(len(trainlabel))"
   ]
  },
  {
   "cell_type": "code",
   "execution_count": 4,
   "id": "6f1c7e84",
   "metadata": {},
   "outputs": [
    {
     "name": "stdout",
     "output_type": "stream",
     "text": [
      "[99928, 88854, 64269, 58830, 53435, 39380, 40830, 30052, 29669, 25622, 22693, 22700, 20563, 14118, 16391, 10761, 10528, 10371, 9168, 8691, 8627, 7507, 7211, 5694, 5352, 4513, 3920, 3823, 3560, 3461, 2323, 2281, 2015, 1530, 1447, 1431, 1182, 1238, 1092, 901]\n",
      "18649.025\n",
      "Wall time: 328 ms\n"
     ]
    }
   ],
   "source": [
    "%%time\n",
    "label = list(range(1, 40+1))\n",
    "train_count = [trainlabel.count(i) for i in label]\n",
    "train_mean = np.mean(train_count)\n",
    "\n",
    "print(train_count)\n",
    "print(train_mean)"
   ]
  },
  {
   "cell_type": "code",
   "execution_count": 5,
   "id": "00956cb9",
   "metadata": {},
   "outputs": [
    {
     "name": "stdout",
     "output_type": "stream",
     "text": [
      "Wall time: 79.6 ms\n"
     ]
    },
    {
     "data": {
      "text/plain": [
       "<matplotlib.legend.Legend at 0x1701f64d9d0>"
      ]
     },
     "execution_count": 5,
     "metadata": {},
     "output_type": "execute_result"
    },
    {
     "data": {
      "image/png": "[encoded data removed]",
      "text/plain": [
       "<Figure size 432x288 with 1 Axes>"
      ]
     },
     "metadata": {
      "needs_background": "light"
     },
     "output_type": "display_data"
    }
   ],
   "source": [
    "%%time\n",
    "#fig= plt.figure(figsize= [16, 12])\n",
    "plt.bar(label, train_count, color = '#00B2EE')\n",
    "plt.axhline(y=train_mean, c=\"gray\", ls=\"--\", lw=1.5, label = 'top 20 average')\n",
    "\n",
    "xlabel = [1]+ list(range(5, 40+1, 5))\n",
    "plt.xticks(xlabel) \n",
    "plt.title(f'Top 20 for training, Total = {sum(train_count)}', size = 14)\n",
    "plt.xlabel('emoji group', size = 12)\n",
    "plt.ylabel('count', size = 12)\n",
    "plt.legend()\n",
    "#plt.savefig(path_go+ r'/top20.jpg')"
   ]
  },
  {
   "cell_type": "markdown",
   "id": "0d44efbd",
   "metadata": {},
   "source": [
    "<hr>"
   ]
  },
  {
   "cell_type": "markdown",
   "id": "d8d88756",
   "metadata": {},
   "source": [
    "### 使用 smote + ENN \n",
    "- 字典內放 要 smote 到多少\n",
    "- smote 後的 enn 採用預設，所有的資料皆要 resample\n"
   ]
  },
  {
   "cell_type": "markdown",
   "id": "4685c36c",
   "metadata": {},
   "source": [
    "### 20 個 group 中，哪些 group 需要 smote，smote 多少"
   ]
  },
  {
   "cell_type": "code",
   "execution_count": 6,
   "id": "8e432334",
   "metadata": {},
   "outputs": [
    {
     "name": "stdout",
     "output_type": "stream",
     "text": [
      "針對這幾個 group: [14, 15, 16, 17, 18, 19, 20, 21, 22, 23, 24, 25, 26, 27, 28, 29, 30, 31, 32, 33, 34, 35, 36, 37, 38, 39, 40] 做 smote 到 18649 個\n"
     ]
    }
   ],
   "source": [
    "smote_label = [i+1 for i, v in enumerate(list(train_count<train_mean)) if v ==True]\n",
    "\n",
    "print(f'針對這幾個 group: {smote_label} 做 smote 到 {int(train_mean)} 個')"
   ]
  },
  {
   "cell_type": "code",
   "execution_count": 7,
   "id": "98cab722",
   "metadata": {},
   "outputs": [
    {
     "name": "stdout",
     "output_type": "stream",
     "text": [
      "{14: 18649, 15: 18649, 16: 18649, 17: 18649, 18: 18649, 19: 18649, 20: 18649, 21: 18649, 22: 18649, 23: 18649, 24: 18649, 25: 18649, 26: 18649, 27: 18649, 28: 18649, 29: 18649, 30: 18649, 31: 18649, 32: 18649, 33: 18649, 34: 18649, 35: 18649, 36: 18649, 37: 18649, 38: 18649, 39: 18649, 40: 18649}\n"
     ]
    }
   ],
   "source": [
    "smonum = [int(train_mean)]*len(smote_label)\n",
    "smo = dict(zip(smote_label, smonum))\n",
    "print(smo)"
   ]
  },
  {
   "cell_type": "code",
   "execution_count": 14,
   "id": "87835e68",
   "metadata": {},
   "outputs": [
    {
     "name": "stdout",
     "output_type": "stream",
     "text": [
      "(310821, 20)\n",
      "310821\n",
      "Wall time: 38min 32s\n"
     ]
    }
   ],
   "source": [
    "%%time \n",
    "X_res, y_res = SMOTEENN(smo).fit_resample(train, trainlabel)\n",
    "\n",
    "print(X_res.shape)\n",
    "print(len(y_res))\n",
    "\n",
    "#1:01開始跑"
   ]
  },
  {
   "cell_type": "code",
   "execution_count": 15,
   "id": "4102b808",
   "metadata": {},
   "outputs": [
    {
     "name": "stdout",
     "output_type": "stream",
     "text": [
      "[6011, 4893, 4266, 509, 20864, 404, 1802, 924, 1390, 2216, 2436, 976, 833, 1246, 383, 2976, 4695, 4852, 4667, 6186, 5911, 7547, 6835, 8330, 10209, 11072, 10968, 12699, 14027, 7980, 13491, 14127, 13035, 14660, 13357, 14780, 15897, 13669, 15113, 14585]\n",
      "7770.525\n"
     ]
    }
   ],
   "source": [
    "after_train_count = [y_res.count(i) for i in label]\n",
    "after_train_mean = np.mean(after_train_count)\n",
    "\n",
    "print(after_train_count)\n",
    "print(after_train_mean)"
   ]
  },
  {
   "cell_type": "code",
   "execution_count": 17,
   "id": "6e41ece9",
   "metadata": {},
   "outputs": [
    {
     "data": {
      "text/plain": [
       "<matplotlib.legend.Legend at 0x1f1d2049970>"
      ]
     },
     "execution_count": 17,
     "metadata": {},
     "output_type": "execute_result"
    },
    {
     "data": {
      "image/png": "[encoded data removed]",
      "text/plain": [
       "<Figure size 432x288 with 1 Axes>"
      ]
     },
     "metadata": {
      "needs_background": "light"
     },
     "output_type": "display_data"
    }
   ],
   "source": [
    "plt.bar(label, after_train_count, color = '#00B2EE')\n",
    "plt.axhline(y=after_train_mean, c=\"gray\", ls=\"--\", lw=1.5, label = 'average')\n",
    "\n",
    "xlabel = [1]+ list(range(5, 20+1, 5))\n",
    "plt.xticks(xlabel) \n",
    "plt.title(f'smote + enn, Total = {sum(after_train_count)}', size = 14)\n",
    "plt.xlabel('emoji group', size = 12)\n",
    "plt.ylabel('count', size = 12)\n",
    "plt.legend()\n",
    "#plt.savefig(path_+ r'/top20_smoteenn.jpg')"
   ]
  },
  {
   "cell_type": "code",
   "execution_count": 11,
   "id": "974b0d5c",
   "metadata": {},
   "outputs": [
    {
     "data": {
      "text/plain": [
       "'E:\\\\專題\\\\AllData\\\\training\\\\final_training'"
      ]
     },
     "execution_count": 11,
     "metadata": {},
     "output_type": "execute_result"
    }
   ],
   "source": [
    "path_"
   ]
  },
  {
   "cell_type": "markdown",
   "id": "b6e6ff69",
   "metadata": {},
   "source": [
    "### 匯出檔案"
   ]
  },
  {
   "cell_type": "code",
   "execution_count": 18,
   "id": "f8177433",
   "metadata": {},
   "outputs": [
    {
     "name": "stdout",
     "output_type": "stream",
     "text": [
      "Wall time: 1.87 s\n"
     ]
    }
   ],
   "source": [
    "%%time\n",
    "with open(path_tse+ '/X_smoenn_g40.pkl','wb') as f:\n",
    "    pickle.dump(X_res, f)\n",
    "\n",
    "with open(path_tse+ '/y_smoenn_g40.pkl','wb') as f:\n",
    "    pickle.dump(y_res, f)"
   ]
  },
  {
   "cell_type": "markdown",
   "id": "5efb13b6",
   "metadata": {},
   "source": [
    "<hr>"
   ]
  },
  {
   "cell_type": "markdown",
   "id": "634de754",
   "metadata": {},
   "source": [
    "## 畫圖"
   ]
  },
  {
   "cell_type": "code",
   "execution_count": 13,
   "id": "65aa7176",
   "metadata": {},
   "outputs": [
    {
     "name": "stdout",
     "output_type": "stream",
     "text": [
      "Wall time: 2.67 s\n"
     ]
    }
   ],
   "source": [
    "%%time\n",
    "with open(path_tse+ r\"/y_smoenn_g40.pkl\", \"rb\") as f:\n",
    "    trainlabel = pickle.load(f)"
   ]
  },
  {
   "cell_type": "code",
   "execution_count": 14,
   "id": "f6087552",
   "metadata": {},
   "outputs": [],
   "source": [
    "count = [trainlabel.count(i) for i in list(range(1, 40+1))]"
   ]
  },
  {
   "cell_type": "code",
   "execution_count": null,
   "id": "d5d453b9",
   "metadata": {},
   "outputs": [],
   "source": []
  },
  {
   "cell_type": "code",
   "execution_count": 17,
   "id": "227a388b",
   "metadata": {},
   "outputs": [
    {
     "name": "stdout",
     "output_type": "stream",
     "text": [
      "Wall time: 48.3 ms\n"
     ]
    },
    {
     "data": {
      "text/plain": [
       "<matplotlib.legend.Legend at 0x1701ea07850>"
      ]
     },
     "execution_count": 17,
     "metadata": {},
     "output_type": "execute_result"
    },
    {
     "data": {
      "image/png": "[encoded data removed]",
      "text/plain": [
       "<Figure size 432x288 with 1 Axes>"
      ]
     },
     "metadata": {
      "needs_background": "light"
     },
     "output_type": "display_data"
    }
   ],
   "source": [
    "%%time\n",
    "#fig= plt.figure(figsize= [16, 12])\n",
    "plt.bar(label, count, color = '#00B2EE')\n",
    "plt.axhline(y=np.mean(count), c=\"gray\", ls=\"--\", lw=1.5, label = 'average')\n",
    "\n",
    "xlabel = [1]+ list(range(5, 40+1, 5))\n",
    "plt.xticks(xlabel) \n",
    "plt.title(f'SMOTE + ENN, Total = {sum(train_count)}', size = 14)\n",
    "plt.xlabel('emoji group', size = 12)\n",
    "plt.ylabel('count', size = 12)\n",
    "plt.legend()\n",
    "#plt.savefig(path_go+ r'/top20.jpg')"
   ]
  }
 ],
 "metadata": {
  "kernelspec": {
   "display_name": "Python 3 (ipykernel)",
   "language": "python",
   "name": "python3"
  },
  "language_info": {
   "codemirror_mode": {
    "name": "ipython",
    "version": 3
   },
   "file_extension": ".py",
   "mimetype": "text/x-python",
   "name": "python",
   "nbconvert_exporter": "python",
   "pygments_lexer": "ipython3",
   "version": "3.9.7"
  }
 },
 "nbformat": 4,
 "nbformat_minor": 5
}
