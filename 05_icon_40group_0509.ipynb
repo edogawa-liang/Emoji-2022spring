{
 "cells": [
  {
   "cell_type": "markdown",
   "metadata": {},
   "source": [
    "## icon 40 groups 0509"
   ]
  },
  {
   "cell_type": "code",
   "execution_count": 6,
   "metadata": {},
   "outputs": [],
   "source": [
    "import pandas as pd\n",
    "import numpy as np\n",
    "\n",
    "import warnings\n",
    "warnings.filterwarnings(\"ignore\")\n",
    "\n",
    "icon_PATH_in = \"C:/Users/e2414/OneDrive/桌面/專題/AllData/wordcut/finish_cut/byestop_emoji/\" # 匯入路徑\n",
    "icon_PATH_out = \"C:/Users/e2414/OneDrive/桌面/專題/AllData/training/mytraining/\" # 匯出路徑\n",
    "output_file_name = \"conan\""
   ]
  },
  {
   "cell_type": "markdown",
   "metadata": {},
   "source": [
    "### 匯入檔案"
   ]
  },
  {
   "cell_type": "code",
   "execution_count": 2,
   "metadata": {},
   "outputs": [],
   "source": [
    "# 注意: start_ID 到 end_ID 必須連續\n",
    "start_ID = 200 # 第一個檔案 ID\n",
    "end_ID = 299 # 最後一個檔案 ID\n",
    "# 匯入第一個檔案\n",
    "file_name = \"emoji_nsw_c\" + str(start_ID) + \".xlsx\"\n",
    "data = pd.read_excel(icon_PATH_in + file_name)\n",
    "\n",
    "# 匯入後續檔案\n",
    "for i in range((start_ID + 1), (end_ID + 1)) :\n",
    "    file_name = \"emoji_nsw_c\" + str(i) + \".xlsx\"\n",
    "    df = pd.read_excel(icon_PATH_in + file_name) # 匯入檔案\n",
    "    data = data.append(df) # df 與 data 串接"
   ]
  },
  {
   "cell_type": "markdown",
   "metadata": {},
   "source": [
    "後續檔案"
   ]
  },
  {
   "cell_type": "code",
   "execution_count": 3,
   "metadata": {},
   "outputs": [],
   "source": [
    "# 注意: start_ID 到 end_ID 必須連續\n",
    "start_ID = 800 # 第一個檔案 ID\n",
    "#end_ID = 811  \n",
    "end_ID = 818\n",
    "\n",
    "# 匯入後續檔案\n",
    "for i in range(start_ID , (end_ID + 1)) :\n",
    "    file_name = \"emoji_nsw_c\" + str(i) + \".xlsx\"\n",
    "    df = pd.read_excel(icon_PATH_in + file_name) # 匯入檔案\n",
    "    data = data.append(df) # df 與 data 串接\n",
    "    \n",
    "# 注意: start_ID 到 end_ID 必須連續\n",
    "start_ID = 1201 # 第一個檔案 ID\n",
    "end_ID = 1202 # 最後一個檔案 ID\n",
    "\n",
    "# 匯入後續檔案\n",
    "for i in range(start_ID , (end_ID + 1)) :\n",
    "    file_name = \"emoji_nsw_c\" + str(i) + \".xlsx\"\n",
    "    df = pd.read_excel(icon_PATH_in + file_name) # 匯入檔案\n",
    "    data = data.append(df) # df 與 data 串接\n",
    "    \n",
    "# 注意: start_ID 到 end_ID 必須連續\n",
    "start_ID = 1204 # 第一個檔案 ID\n",
    "end_ID = 1265 # 最後一個檔案 ID\n",
    "\n",
    "# 匯入後續檔案\n",
    "for i in range(start_ID , (end_ID + 1)) :\n",
    "    file_name = \"emoji_nsw_c\" + str(i) + \".xlsx\"\n",
    "    df = pd.read_excel(icon_PATH_in + file_name) # 匯入檔案\n",
    "    data = data.append(df) # df 與 data 串接"
   ]
  },
  {
   "cell_type": "code",
   "execution_count": 4,
   "metadata": {},
   "outputs": [],
   "source": [
    "del start_ID, end_ID, file_name, df"
   ]
  },
  {
   "cell_type": "markdown",
   "metadata": {},
   "source": [
    "### 匯入 icon 對照表"
   ]
  },
  {
   "cell_type": "code",
   "execution_count": 7,
   "metadata": {},
   "outputs": [],
   "source": [
    "icon_table = pd.read_pickle(icon_PATH_out + \"icon40_table.pkl\")"
   ]
  },
  {
   "cell_type": "code",
   "execution_count": 9,
   "metadata": {},
   "outputs": [],
   "source": [
    "icon_table.to_excel(icon_PATH_out + \"icon40_table.xlsx\")"
   ]
  },
  {
   "cell_type": "markdown",
   "metadata": {},
   "source": [
    "### 加入 Group 變數"
   ]
  },
  {
   "cell_type": "code",
   "execution_count": 7,
   "metadata": {},
   "outputs": [],
   "source": [
    "data = data.drop(columns= 'Unnamed: 0')\n",
    "data.reset_index(inplace = True, drop = True)\n",
    "data['Group'] = np.nan\n",
    "\n",
    "for i in range(data.shape[0]) :\n",
    "    for s in range(icon_table.shape[0]) :\n",
    "        if (data['emoji'][i] == icon_table['icon'][s]) :\n",
    "            data['Group'][i] = icon_table['group40'][s]\n",
    "            break"
   ]
  },
  {
   "cell_type": "code",
   "execution_count": 8,
   "metadata": {},
   "outputs": [],
   "source": [
    "del icon_table"
   ]
  },
  {
   "cell_type": "markdown",
   "metadata": {},
   "source": [
    "### 將資料分為「40 類」與「非 40 類」"
   ]
  },
  {
   "cell_type": "code",
   "execution_count": 9,
   "metadata": {},
   "outputs": [
    {
     "name": "stdout",
     "output_type": "stream",
     "text": [
      "資料總數: 172256 (140213[40 類] + 32043[非 40 類])\n"
     ]
    }
   ],
   "source": [
    "not40 = data[data['Group'].isnull()] \n",
    "data40 = data[data['Group'].notna()] \n",
    "\n",
    "print(\"資料總數: \" + str(data.shape[0]) + \" (\" + str(data40.shape[0]) + \"[40 類] + \" + str(not40.shape[0]) + \"[非 40 類])\")"
   ]
  },
  {
   "cell_type": "code",
   "execution_count": 10,
   "metadata": {},
   "outputs": [],
   "source": [
    "del data"
   ]
  },
  {
   "cell_type": "markdown",
   "metadata": {},
   "source": [
    "### 計數"
   ]
  },
  {
   "cell_type": "code",
   "execution_count": 11,
   "metadata": {},
   "outputs": [],
   "source": [
    "# 40 類\n",
    "data40_sum = data40['Group'].value_counts()\n",
    "data40_sum = pd.DataFrame(data40_sum)\n",
    "data40_sum.columns = [output_file_name]\n",
    "data40_sum.insert(0, 'Group', data40_sum.index)\n",
    "data40_sum = data40_sum.sort_values(by = [output_file_name], ascending = False)\n",
    "\n",
    "# 非 90 類\n",
    "not40_sum = not40['emoji'].value_counts()\n",
    "not40_sum = pd.DataFrame(not40_sum)\n",
    "not40_sum.columns = [output_file_name]\n",
    "not40_sum.insert(0, 'Group', not40_sum.index)\n",
    "not40_sum = not40_sum.sort_values(by = [output_file_name], ascending = False)"
   ]
  },
  {
   "cell_type": "markdown",
   "metadata": {},
   "source": [
    "### 匯出"
   ]
  },
  {
   "cell_type": "code",
   "execution_count": 12,
   "metadata": {},
   "outputs": [],
   "source": [
    "data40.to_pickle(icon_PATH_out+ \"icon40_\"+ output_file_name + \".pkl\")\n",
    "not40_sum.to_pickle(icon_PATH_out+ \"icon_n40_i\"+ output_file_name + \".pkl\")\n",
    "data40_sum.to_pickle(icon_PATH_out+ \"icon40_i\"+ output_file_name + \".pkl\")"
   ]
  }
 ],
 "metadata": {
  "interpreter": {
   "hash": "db7b2305b722ed8da938d07afd3f820eaf48aa2a88ceeb90d11f0d36f092adb9"
  },
  "kernelspec": {
   "display_name": "Python 3 (ipykernel)",
   "language": "python",
   "name": "python3"
  },
  "language_info": {
   "codemirror_mode": {
    "name": "ipython",
    "version": 3
   },
   "file_extension": ".py",
   "mimetype": "text/x-python",
   "name": "python",
   "nbconvert_exporter": "python",
   "pygments_lexer": "ipython3",
   "version": "3.9.7"
  }
 },
 "nbformat": 4,
 "nbformat_minor": 2
}
