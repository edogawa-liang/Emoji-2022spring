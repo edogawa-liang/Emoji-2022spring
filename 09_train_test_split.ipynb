{
 "cells": [
  {
   "cell_type": "markdown",
   "id": "a0b8865b",
   "metadata": {},
   "source": [
    "# 將資料切成 訓練集 & 測試集 (p = 0.1)"
   ]
  },
  {
   "cell_type": "code",
   "execution_count": 1,
   "id": "7d46bb65",
   "metadata": {},
   "outputs": [],
   "source": [
    "import pandas as pd\n",
    "import numpy as np\n",
    "import matplotlib.pyplot as plt\n",
    "import pickle\n",
    "import time\n",
    "from sklearn.model_selection import train_test_split\n",
    "\n",
    "import warnings\n",
    "warnings.filterwarnings(\"ignore\")\n"
   ]
  },
  {
   "cell_type": "code",
   "execution_count": 2,
   "id": "a3e8b198",
   "metadata": {},
   "outputs": [],
   "source": [
    "path_ = r'C:\\Users\\e2414\\OneDrive\\桌面\\專題\\AllData\\training'  #資料從哪裡來\n",
    "\n",
    "\n",
    "path_final = r'E:\\專題\\AllData\\training\\final_training'  #資料去哪"
   ]
  },
  {
   "cell_type": "code",
   "execution_count": 21,
   "id": "6d1261d5",
   "metadata": {},
   "outputs": [
    {
     "name": "stdout",
     "output_type": "stream",
     "text": [
      "Wall time: 26.1 s\n"
     ]
    }
   ],
   "source": [
    "%%time\n",
    "with open(path_+ r\"/train.pkl\", \"rb\") as f:\n",
    "    train = pickle.load(f)\n",
    "    \n",
    "with open(path_+ r\"/trainlabel.pkl\", \"rb\") as f:\n",
    "    trainlabel = pickle.load(f)\n"
   ]
  },
  {
   "cell_type": "code",
   "execution_count": 22,
   "id": "5be5ac9f",
   "metadata": {},
   "outputs": [
    {
     "name": "stdout",
     "output_type": "stream",
     "text": [
      "(828845, 300)\n",
      "(828845,)\n",
      "828845\n"
     ]
    }
   ],
   "source": [
    "print(np.shape(train))\n",
    "print(np.shape(trainlabel))\n",
    "\n",
    "sentence_label = list(range(len(trainlabel)))\n",
    "print(len(sentence_label))\n"
   ]
  },
  {
   "cell_type": "markdown",
   "id": "5d582293",
   "metadata": {},
   "source": [
    "<hr>"
   ]
  },
  {
   "cell_type": "markdown",
   "id": "210cb5f0",
   "metadata": {},
   "source": [
    "## 1. 抽所有 828845 筆資料 p = 0.1 當作測試集 (維持資料的 imbalance 分布)"
   ]
  },
  {
   "cell_type": "code",
   "execution_count": 23,
   "id": "b0c88081",
   "metadata": {},
   "outputs": [
    {
     "name": "stdout",
     "output_type": "stream",
     "text": [
      "82884\n"
     ]
    }
   ],
   "source": [
    "# 抽來當測試的位置\n",
    "loc = np.random.choice(sentence_label, int(len(sentence_label)*0.1), replace = False)\n",
    "print(len(loc))"
   ]
  },
  {
   "cell_type": "code",
   "execution_count": 24,
   "id": "66c799c9",
   "metadata": {},
   "outputs": [
    {
     "name": "stdout",
     "output_type": "stream",
     "text": [
      "745961\n",
      "Wall time: 40.1 s\n"
     ]
    }
   ],
   "source": [
    "%%time\n",
    "# 抽來當訓練的位置\n",
    "left_loc = [i for i in sentence_label if i not in loc]\n",
    "print(len(left_loc))"
   ]
  },
  {
   "cell_type": "code",
   "execution_count": null,
   "id": "92988b8c",
   "metadata": {},
   "outputs": [],
   "source": [
    "# 訓練會按照順序排，測試不會"
   ]
  },
  {
   "cell_type": "code",
   "execution_count": 25,
   "id": "d92bdb4b",
   "metadata": {},
   "outputs": [
    {
     "name": "stdout",
     "output_type": "stream",
     "text": [
      "(82884, 300)\n",
      "82884\n",
      "(745961, 300)\n",
      "745961\n",
      "Wall time: 976 ms\n"
     ]
    }
   ],
   "source": [
    "%%time\n",
    "# 測試集 資料\n",
    "choose_test = train[loc, ]\n",
    "print(choose_test.shape)\n",
    "\n",
    "# 測試 label\n",
    "choose_testlabel = [trainlabel[i] for i in loc]\n",
    "print(len(choose_testlabel))\n",
    "\n",
    "\n",
    "# 訓練集 資料\n",
    "choose_train = train[left_loc, ]\n",
    "print(choose_train.shape)\n",
    "\n",
    "# 訓練集 label\n",
    "choose_trainlabel = [trainlabel[i] for i in left_loc]\n",
    "print(len(choose_trainlabel))"
   ]
  },
  {
   "cell_type": "markdown",
   "id": "72564ff6",
   "metadata": {},
   "source": [
    "### 匯出"
   ]
  },
  {
   "cell_type": "code",
   "execution_count": 26,
   "id": "d5a23f56",
   "metadata": {},
   "outputs": [
    {
     "name": "stdout",
     "output_type": "stream",
     "text": [
      "Wall time: 1min 9s\n"
     ]
    }
   ],
   "source": [
    "%%time\n",
    "# 測試集\n",
    "with open(path_final + r\"/loc_test.pkl\",'wb') as f:\n",
    "    pickle.dump(loc, f)\n",
    "\n",
    "with open(path_final + r\"/X_test.pkl\",'wb') as f:\n",
    "    pickle.dump(choose_test, f)\n",
    "    \n",
    "with open(path_final + r\"/y_test.pkl\",'wb') as f:\n",
    "    pickle.dump(choose_testlabel, f)\n",
    "    \n",
    "\n",
    "# 訓練集\n",
    "with open(path_final + r\"/loc_train.pkl\",'wb') as f:\n",
    "    pickle.dump(left_loc, f)\n",
    "\n",
    "with open(path_final + r\"/X_train.pkl\",'wb') as f:\n",
    "    pickle.dump(choose_train, f)\n",
    "    \n",
    "with open(path_final + r\"/y_train.pkl\",'wb') as f:\n",
    "    pickle.dump(choose_trainlabel, f)"
   ]
  },
  {
   "cell_type": "markdown",
   "id": "23b7568d",
   "metadata": {},
   "source": [
    "<hr>"
   ]
  },
  {
   "cell_type": "markdown",
   "id": "8ddeccbe",
   "metadata": {},
   "source": [
    "### 在從所有 745961 筆資料中，抽十萬筆當訓練集 (維持資料的 imbalance 分布)"
   ]
  },
  {
   "cell_type": "code",
   "execution_count": null,
   "id": "e3e7ff56",
   "metadata": {},
   "outputs": [],
   "source": [
    "left_loc\n",
    "choose_train\n",
    "choose_trainlabel"
   ]
  },
  {
   "cell_type": "code",
   "execution_count": 31,
   "id": "56f41586",
   "metadata": {},
   "outputs": [],
   "source": [
    "alll = list(range(len(left_loc)))"
   ]
  },
  {
   "cell_type": "code",
   "execution_count": 32,
   "id": "87f6fbf5",
   "metadata": {},
   "outputs": [
    {
     "name": "stdout",
     "output_type": "stream",
     "text": [
      "100000\n"
     ]
    }
   ],
   "source": [
    "# 抽十萬筆訓練 !\n",
    "loc = np.random.choice(alll, 100000, replace = False)\n",
    "print(len(loc))"
   ]
  },
  {
   "cell_type": "code",
   "execution_count": 38,
   "id": "d2d9d80e",
   "metadata": {},
   "outputs": [
    {
     "name": "stdout",
     "output_type": "stream",
     "text": [
      "Wall time: 216 ms\n"
     ]
    }
   ],
   "source": [
    "%%time\n",
    "rand10_loc = [left_loc[i] for i in loc]\n",
    "rand10_train = choose_train[loc, ]\n",
    "rand10_label = [choose_trainlabel[i] for i in loc]"
   ]
  },
  {
   "cell_type": "code",
   "execution_count": 47,
   "id": "d440c069",
   "metadata": {},
   "outputs": [
    {
     "name": "stdout",
     "output_type": "stream",
     "text": [
      "[13306, 12050, 8565, 7838, 7162, 5307, 5444, 4115, 3899, 3410, 2980, 2975, 2759, 1835, 2222, 1387, 1446, 1371, 1174, 1270, 1169, 1037, 1014, 771, 729, 608, 533, 538, 484, 480, 318, 293, 288, 187, 209, 196, 181, 175, 165, 110]\n"
     ]
    }
   ],
   "source": [
    "print(list(rand10_label.count(i) for i in range(1, 40+1)))"
   ]
  },
  {
   "cell_type": "code",
   "execution_count": 45,
   "id": "43b6e5da",
   "metadata": {},
   "outputs": [],
   "source": [
    "# 訓練集\n",
    "with open(path_final + r\"/loc_train_10im.pkl\",'wb') as f:\n",
    "    pickle.dump(rand10_loc, f)\n",
    "\n",
    "with open(path_final + r\"/X_train_10im.pkl\",'wb') as f:\n",
    "    pickle.dump(rand10_train, f)\n",
    "    \n",
    "with open(path_final + r\"/y_train_10im.pkl\",'wb') as f:\n",
    "    pickle.dump(rand10_label, f)"
   ]
  },
  {
   "cell_type": "markdown",
   "id": "bb328e81",
   "metadata": {},
   "source": [
    "### 從以上「已分出」的訓練集抽當訓練\n",
    "\n",
    "### 從以上「已分出」的測試集抽當測試\n",
    "(以下沒有使用)"
   ]
  },
  {
   "cell_type": "markdown",
   "id": "26c1e2c2",
   "metadata": {},
   "source": [
    "## 2. 每個 group 各抽 1000 筆 (資料是 balance)"
   ]
  },
  {
   "cell_type": "code",
   "execution_count": 13,
   "id": "cfbfe999",
   "metadata": {},
   "outputs": [],
   "source": [
    "def sampling(train, trainlabel, group, sampling):\n",
    "    \n",
    "    alldata = list(range(np.shape(train)[0]))  #資料總共幾筆\n",
    "   \n",
    "    # 表情 group 對應的位置\n",
    "    allemo = []\n",
    "    for j in range(1, group + 1):\n",
    "        j_emo = [i for i in alldata if trainlabel[i]== j]\n",
    "        allemo.append(j_emo)\n",
    "        # allemo:[[group 1 表情符號位置], [group 2 表情符號位置], [], ...[group 40 表情符號位置]]\n",
    "    \n",
    "    \n",
    "    #抽樣\n",
    "    random_want = []\n",
    "    for j in range(group):\n",
    "        gg = np.random.choice(allemo[j], sampling, replace = False).tolist() #每個組隨機抽到的表情位置\n",
    "        random_want = random_want + gg\n",
    "        # random_want: [group 1 抽樣的位置, group 2 抽樣的位置 ...]\n",
    "        # 匯出按照 group排序，label可直接上為 111..11222..22333...33 .....\n",
    "        \n",
    "    return allemo, random_want"
   ]
  },
  {
   "cell_type": "code",
   "execution_count": null,
   "id": "c79f2844",
   "metadata": {},
   "outputs": [],
   "source": [
    "# 測試集 資料\n",
    "choose_test = train[loc, ]\n",
    "print(choose_test.shape)\n",
    "\n",
    "# 測試 label\n",
    "choose_testlabel = [trainlabel[i] for i in loc]\n",
    "print(len(choose_testlabel))\n",
    "\n",
    "\n",
    "# 訓練集 資料\n",
    "choose_train = train[left_loc, ]\n",
    "print(choose_train.shape)\n",
    "\n",
    "# 訓練集 label\n",
    "choose_trainlabel = [trainlabel[i] for i in left_loc]\n",
    "print(len(choose_trainlabel))"
   ]
  },
  {
   "cell_type": "code",
   "execution_count": 11,
   "id": "8f5a7813",
   "metadata": {},
   "outputs": [
    {
     "name": "stdout",
     "output_type": "stream",
     "text": [
      "[99958, 88645, 64403, 58886, 53413, 39396, 40793, 30104, 29578, 25732, 22668, 22814, 20528, 14015, 16423, 10794, 10486, 10416, 9163, 8700, 8571, 7513, 7167, 5673, 5364, 4501, 3974, 3858, 3566, 3452, 2329, 2272, 2006, 1526, 1432, 1438, 1173, 1237, 1102, 892]\n"
     ]
    }
   ],
   "source": [
    "print([choose_trainlabel.count(i) for i in list(range(1, 40+1))])"
   ]
  },
  {
   "cell_type": "code",
   "execution_count": 14,
   "id": "c6caa189",
   "metadata": {},
   "outputs": [
    {
     "name": "stdout",
     "output_type": "stream",
     "text": [
      "32000\n",
      "Wall time: 1.7 s\n"
     ]
    }
   ],
   "source": [
    "%%time\n",
    "# 40類 800 筆\n",
    "result = sampling(choose_train, choose_trainlabel, 40, 800)\n",
    "\n",
    "#抽樣的位置\n",
    "random_sample = result[1]   # 在已被分出來的 \"choose_train\" 的位置\n",
    "print(len(random_sample))"
   ]
  },
  {
   "cell_type": "code",
   "execution_count": 102,
   "id": "639d0c00",
   "metadata": {},
   "outputs": [
    {
     "name": "stdout",
     "output_type": "stream",
     "text": [
      "(40000, 300)\n",
      "40000\n",
      "Wall time: 2.55 s\n"
     ]
    }
   ],
   "source": [
    "%%time\n",
    "# 抽到的資料\n",
    "data1000 = train[random_sample, ]\n",
    "print(data1000.shape)\n",
    "\n",
    "# 抽到的資料 label\n",
    "datalabel1000 = [trainlabel[i] for i in random_sample]\n",
    "print(len(datalabel1000))"
   ]
  },
  {
   "cell_type": "markdown",
   "id": "3b8407b0",
   "metadata": {},
   "source": [
    "## 將資料切成 train、test"
   ]
  },
  {
   "cell_type": "code",
   "execution_count": 121,
   "id": "6091546b",
   "metadata": {},
   "outputs": [
    {
     "name": "stdout",
     "output_type": "stream",
     "text": [
      "4000\n"
     ]
    }
   ],
   "source": [
    "# 抽來當 test 的位置 (在 sampling 中的位置)\n",
    "loc = np.random.choice(list(range(len(datalabel1000))), int(len(datalabel1000)*0.1), replace = False)\n",
    "\n",
    "# 抽來當 test 的位置 (在 實際 85 萬句向量中的位置)\n",
    "sen_test_loc = [random_sample[i] for i in loc]\n",
    "print(len(sen_test_loc))"
   ]
  },
  {
   "cell_type": "code",
   "execution_count": 123,
   "id": "ed8bcde7",
   "metadata": {},
   "outputs": [
    {
     "name": "stdout",
     "output_type": "stream",
     "text": [
      "36000\n",
      "Wall time: 203 ms\n"
     ]
    }
   ],
   "source": [
    "%%time\n",
    "\n",
    "# 抽來當 training 的位置 (在 sampling 中的位置)\n",
    "left_loc = [i for i in list(range(len(datalabel1000))) if i not in loc]\n",
    "\n",
    "# 抽來當 training 的位置 (在 實際 85 萬句向量中的位置)\n",
    "sen_train_loc = [random_sample[i] for i in left_loc]\n",
    "print(len(sen_test_loc))"
   ]
  },
  {
   "cell_type": "code",
   "execution_count": 125,
   "id": "75eda99a",
   "metadata": {},
   "outputs": [
    {
     "name": "stdout",
     "output_type": "stream",
     "text": [
      "(4000, 300)\n",
      "4000\n",
      "(36000, 300)\n",
      "36000\n",
      "Wall time: 50.5 ms\n"
     ]
    }
   ],
   "source": [
    "%%time\n",
    "# 測試集 資料\n",
    "choose_test = data1000[loc, ]\n",
    "print(choose_test.shape)\n",
    "\n",
    "# 測試 label\n",
    "choose_testlabel = [datalabel1000[i] for i in loc]\n",
    "print(len(choose_testlabel))\n",
    "\n",
    "\n",
    "# 訓練集 資料\n",
    "choose_train = data1000[left_loc, ]\n",
    "print(choose_train.shape)\n",
    "\n",
    "# 訓練集 label\n",
    "choose_trainlabel = [datalabel1000[i] for i in left_loc]\n",
    "print(len(choose_trainlabel))"
   ]
  },
  {
   "cell_type": "markdown",
   "id": "ec77d02e",
   "metadata": {},
   "source": [
    "## 匯出"
   ]
  },
  {
   "cell_type": "code",
   "execution_count": 86,
   "id": "c60c5f73",
   "metadata": {},
   "outputs": [
    {
     "name": "stdout",
     "output_type": "stream",
     "text": [
      "Wall time: 5.29 s\n"
     ]
    }
   ],
   "source": [
    "%%time\n",
    "# 測試集\n",
    "with open(path_final + r\"/loc_test_s1000.pkl\",'wb') as f:\n",
    "    pickle.dump(sen_test_loc, f)\n",
    "\n",
    "with open(path_final + r\"/X_test_s1000.pkl\",'wb') as f:\n",
    "    pickle.dump(test1000, f)\n",
    "    \n",
    "with open(path_final + r\"/y_test_s1000.pkl\",'wb') as f:\n",
    "    pickle.dump(test_label1000, f)\n",
    "    \n",
    "    \n",
    "# 訓練集\n",
    "with open(path_final + r\"/loc_train_s1000.pkl\",'wb') as f:\n",
    "    pickle.dump(sen_train_loc, f)\n",
    "\n",
    "with open(path_final + r\"/X_train.pkl_s1000\",'wb') as f:\n",
    "    pickle.dump(choose_train, f)\n",
    "    \n",
    "with open(path_final + r\"/y_train_s1000.pkl\",'wb') as f:\n",
    "    pickle.dump(choose_trainlabel, f)"
   ]
  }
 ],
 "metadata": {
  "kernelspec": {
   "display_name": "Python 3 (ipykernel)",
   "language": "python",
   "name": "python3"
  },
  "language_info": {
   "codemirror_mode": {
    "name": "ipython",
    "version": 3
   },
   "file_extension": ".py",
   "mimetype": "text/x-python",
   "name": "python",
   "nbconvert_exporter": "python",
   "pygments_lexer": "ipython3",
   "version": "3.9.7"
  }
 },
 "nbformat": 4,
 "nbformat_minor": 5
}
