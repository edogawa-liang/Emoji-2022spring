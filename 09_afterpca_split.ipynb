{
 "cells": [
  {
   "cell_type": "markdown",
   "id": "534cbc91",
   "metadata": {},
   "source": [
    "## 由 pca 過的原始 training 資料 抽十萬筆出來"
   ]
  },
  {
   "cell_type": "code",
   "execution_count": 19,
   "id": "d31de44d",
   "metadata": {},
   "outputs": [],
   "source": [
    "import pandas as pd\n",
    "import numpy as np\n",
    "import matplotlib.pyplot as plt\n",
    "import pickle\n",
    "import time\n",
    "from sklearn.model_selection import train_test_split\n",
    "\n",
    "import warnings\n",
    "warnings.filterwarnings(\"ignore\")\n"
   ]
  },
  {
   "cell_type": "markdown",
   "id": "f2b47ebf",
   "metadata": {},
   "source": [
    "### 匯入 pca 20 過的 alldata"
   ]
  },
  {
   "cell_type": "code",
   "execution_count": 20,
   "id": "40368f74",
   "metadata": {},
   "outputs": [],
   "source": [
    "\n",
    "path_ = r'F:\\專題\\AllData\\training\\final_training' \n",
    "\n",
    "path_test = r'F:\\專題\\AllData\\training\\final_training\\測試集再sampling'\n",
    "path_ori = r'F:\\專題\\AllData\\training\\final_training\\原始資料'\n",
    "path_imb = r'F:\\專題\\AllData\\training\\final_training\\十萬imbal'\n",
    "\n",
    "path_bal = r'F:\\專題\\AllData\\training\\final_training\\較bal'\n",
    "path_pca = r'F:\\專題\\AllData\\training\\final_training\\PCA'\n",
    "path_tse = r'F:\\專題\\AllData\\training\\final_training\\tomek_smote_enn'\n",
    "path_tsne = r'F:\\專題\\AllData\\training\\final_training\\tsne'"
   ]
  },
  {
   "cell_type": "code",
   "execution_count": 21,
   "id": "9bc50c49",
   "metadata": {},
   "outputs": [
    {
     "name": "stdout",
     "output_type": "stream",
     "text": [
      "Wall time: 21.4 s\n"
     ]
    }
   ],
   "source": [
    "%%time\n",
    "with open(path_tse+ r\"/X_smo_g40.pkl\", \"rb\") as f:\n",
    "    X_train = pickle.load(f)\n",
    "    \n",
    "with open(path_tse+ r\"/y_smo_g40.pkl\", \"rb\") as f:\n",
    "    y_train = pickle.load(f)\n",
    "    "
   ]
  },
  {
   "cell_type": "code",
   "execution_count": 22,
   "id": "7a8325e3",
   "metadata": {},
   "outputs": [
    {
     "name": "stdout",
     "output_type": "stream",
     "text": [
      "(1100348, 20)\n",
      "1100348\n"
     ]
    }
   ],
   "source": [
    "X_train = np.array(X_train)\n",
    "\n",
    "print(X_train.shape)\n",
    "print(len(y_train))\n"
   ]
  },
  {
   "cell_type": "markdown",
   "id": "2471bc48",
   "metadata": {},
   "source": [
    "### 訓練集抽十萬筆"
   ]
  },
  {
   "cell_type": "code",
   "execution_count": 23,
   "id": "58741141",
   "metadata": {},
   "outputs": [
    {
     "data": {
      "text/plain": [
       "100000"
      ]
     },
     "execution_count": 23,
     "metadata": {},
     "output_type": "execute_result"
    }
   ],
   "source": [
    "# 抽出來的訓練集 在訓練集中的什麼位置\n",
    "alll = list(range(X_train.shape[0]))\n",
    "loc = np.random.choice(alll, 100000, replace = False)\n",
    "len(loc)"
   ]
  },
  {
   "cell_type": "code",
   "execution_count": 25,
   "id": "c52c7c7e",
   "metadata": {},
   "outputs": [
    {
     "name": "stdout",
     "output_type": "stream",
     "text": [
      "(100000, 20)\n",
      "100000\n"
     ]
    }
   ],
   "source": [
    "im_X = X_train[loc, :]\n",
    "im_y = [y_train[i] for i in loc]\n",
    "\n",
    "print(im_X.shape)\n",
    "print(len(im_y))"
   ]
  },
  {
   "cell_type": "code",
   "execution_count": 26,
   "id": "ce82faf7",
   "metadata": {},
   "outputs": [],
   "source": [
    "# 訓練集\n",
    "with open(path_tse  + r\"/X_smo_g40_sam.pkl\",'wb') as f:\n",
    "    pickle.dump(im_X, f)\n",
    "\n",
    "with open(path_tse  + r\"/y_smo_g40_sam.pkl\",'wb') as f:\n",
    "    pickle.dump(im_y, f)\n",
    "    \n",
    "with open(path_tse  + r\"/loc_smo_g40_sam.pkl\",'wb') as f:\n",
    "    pickle.dump(loc, f)"
   ]
  },
  {
   "cell_type": "code",
   "execution_count": 68,
   "id": "8186f27d",
   "metadata": {},
   "outputs": [
    {
     "data": {
      "text/plain": [
       "745959"
      ]
     },
     "execution_count": 68,
     "metadata": {},
     "output_type": "execute_result"
    }
   ],
   "source": [
    "max(loc)"
   ]
  },
  {
   "cell_type": "markdown",
   "id": "e029932a",
   "metadata": {},
   "source": [
    "### 測試集抽一萬筆"
   ]
  },
  {
   "cell_type": "code",
   "execution_count": 5,
   "id": "345589ed",
   "metadata": {},
   "outputs": [],
   "source": [
    "with open(path_pca+ r\"/X_test_total_pc20.pkl\", \"rb\") as f:\n",
    "    X_test = pickle.load(f)\n",
    "    \n",
    "with open(path_ori+ r\"/y_test.pkl\", \"rb\") as f:\n",
    "    y_test = pickle.load(f)"
   ]
  },
  {
   "cell_type": "code",
   "execution_count": 6,
   "id": "5631df07",
   "metadata": {},
   "outputs": [
    {
     "name": "stdout",
     "output_type": "stream",
     "text": [
      "(82884, 20)\n",
      "82884\n"
     ]
    }
   ],
   "source": [
    "X_test = np.array(X_test)\n",
    "\n",
    "print(X_test.shape)\n",
    "print(len(y_test))"
   ]
  },
  {
   "cell_type": "code",
   "execution_count": 7,
   "id": "d78a3c3e",
   "metadata": {},
   "outputs": [
    {
     "data": {
      "text/plain": [
       "80"
      ]
     },
     "execution_count": 7,
     "metadata": {},
     "output_type": "execute_result"
    }
   ],
   "source": [
    "# 問卷位置\n",
    "a = [77552,54982,49656,12458,38975,22885,74183,61667,42481,38863,41119,13894,50759,25439,50880,56900,74579,38003,51986,30284]\n",
    "b = [18289, 79131, 14293, 23800, 26942, 15475, 82228, 5728, 41165, 2512, 6207, 51101, 80277, 49097, 51890, 23691, 17628, 81777, 23341, 5382]\n",
    "c = [82320, 20658, 3943,5079,76534,56718,54407,35814,52776,52303,82145,20456,70976, 34298, 15554, 44522, 51003, 37140,31503,19353]\n",
    "d = [63123,55864,63545,7295,45186,10301,44883,24058,76946,6892,59326,68083,52717,42976,25714,40980,25413,50930,54033,40528]\n",
    "\n",
    "s = a+b+c+d\n",
    "len(s)\n"
   ]
  },
  {
   "cell_type": "code",
   "execution_count": 8,
   "id": "f878e809",
   "metadata": {},
   "outputs": [
    {
     "name": "stdout",
     "output_type": "stream",
     "text": [
      "80\n"
     ]
    }
   ],
   "source": [
    "# 新的問卷位置\n",
    "new = [14293,6892,56718,23800,34298,82320,74579,63545,80277,41165,56900,3943,40980,12458,81777,25439,54033]\n",
    "new2 = [54982,82145,49656,54407,51890,7295,76946,25413,6207,5728,5382,52303,70976,82228,38975,50880,50930,51003]\n",
    "new3 = [38863,44883,68083,23341,63123,13894,35814,51986,17628,19353,2512,59326,38003,40528,50759,25714,22885,42481]\n",
    "new4 = [61667,45186,77552,52717,31503,79131,26942,49097,51101,24058,23691,5079,44522,74183,41119,42976,15475,52776]\n",
    "new5 = [15554,20456,76534,20658,10301,18289,30284,55864,37140]\n",
    "\n",
    "dafulabel = new+new2+new3+new4+new5\n",
    "print(len(dafulabel))"
   ]
  },
  {
   "cell_type": "code",
   "execution_count": 9,
   "id": "80561acc",
   "metadata": {},
   "outputs": [
    {
     "data": {
      "text/plain": [
       "(82884, 20)"
      ]
     },
     "execution_count": 9,
     "metadata": {},
     "output_type": "execute_result"
    }
   ],
   "source": [
    "np.shape(X_test)"
   ]
  },
  {
   "cell_type": "code",
   "execution_count": 55,
   "id": "26dc46e6",
   "metadata": {},
   "outputs": [
    {
     "name": "stdout",
     "output_type": "stream",
     "text": [
      "82804\n"
     ]
    }
   ],
   "source": [
    "can_choose = [i for i in list(range(np.shape(X_test)[0])) if i not in s]\n",
    "print(len(can_choose))"
   ]
  },
  {
   "cell_type": "code",
   "execution_count": 56,
   "id": "14b87b33",
   "metadata": {},
   "outputs": [],
   "source": [
    "cho = np.random.choice(can_choose, 10000-len(s), replace = False).tolist()\n",
    "final = s+ cho"
   ]
  },
  {
   "cell_type": "code",
   "execution_count": 57,
   "id": "c700958d",
   "metadata": {},
   "outputs": [
    {
     "name": "stdout",
     "output_type": "stream",
     "text": [
      "(10000, 20)\n",
      "10000\n"
     ]
    }
   ],
   "source": [
    "samX = X_test[final, :]\n",
    "samy = [y_test[i] for i in final]\n",
    "\n",
    "print(samX.shape)\n",
    "print(len(samy))"
   ]
  },
  {
   "cell_type": "code",
   "execution_count": 71,
   "id": "10102e94",
   "metadata": {},
   "outputs": [
    {
     "name": "stdout",
     "output_type": "stream",
     "text": [
      "10000\n"
     ]
    }
   ],
   "source": [
    "# 抽出來的測試集 在測試集的位置\n",
    "max(final)\n",
    "print(len(final))\n",
    "\n",
    "with open(path_test + r\"/loc_test_sampling.pkl\",'wb') as f:\n",
    "    pickle.dump(final, f)"
   ]
  },
  {
   "cell_type": "code",
   "execution_count": 72,
   "id": "a1e02528",
   "metadata": {},
   "outputs": [
    {
     "data": {
      "text/plain": [
       "82871"
      ]
     },
     "execution_count": 72,
     "metadata": {},
     "output_type": "execute_result"
    }
   ],
   "source": [
    "max(final)"
   ]
  },
  {
   "cell_type": "code",
   "execution_count": 63,
   "id": "0adf8783",
   "metadata": {},
   "outputs": [],
   "source": [
    "path_test = r'E:\\專題\\AllData\\training\\final_training\\測試集再sampling'"
   ]
  },
  {
   "cell_type": "code",
   "execution_count": 1,
   "id": "8435e113",
   "metadata": {},
   "outputs": [],
   "source": [
    "%%time\n",
    "with open(path_test + r\"/X_test_sampling.pkl\",'wb') as f:\n",
    "    pickle.dump(samX, f)\n",
    "\n",
    "with open(path_test + r\"/y_test_sampling.pkl\",'wb') as f:\n",
    "    pickle.dump(samy, f)"
   ]
  },
  {
   "cell_type": "markdown",
   "id": "894b3bd7",
   "metadata": {},
   "source": [
    "### only 問卷"
   ]
  },
  {
   "cell_type": "code",
   "execution_count": 10,
   "id": "b1eea4fc",
   "metadata": {},
   "outputs": [
    {
     "name": "stdout",
     "output_type": "stream",
     "text": [
      "(80, 20)\n",
      "80\n"
     ]
    }
   ],
   "source": [
    "surX = X_test[dafulabel, :]\n",
    "sury = [y_test[i] for i in dafulabel]\n",
    "\n",
    "print(surX.shape)\n",
    "print(len(sury))"
   ]
  },
  {
   "cell_type": "code",
   "execution_count": 15,
   "id": "0af9f444",
   "metadata": {},
   "outputs": [],
   "source": [
    "## 問卷中的前20名\n",
    "loc20 = [i for i,v in enumerate(sury) if v in list(range(1, 20+ 1))]"
   ]
  },
  {
   "cell_type": "code",
   "execution_count": 18,
   "id": "4b089a02",
   "metadata": {},
   "outputs": [],
   "source": [
    "surX = surX[loc20, :]\n",
    "sury = [sury[i] for i in loc20]"
   ]
  },
  {
   "cell_type": "code",
   "execution_count": 21,
   "id": "7fe4429e",
   "metadata": {},
   "outputs": [],
   "source": [
    "with open(path_test + r\"/X_test_survey_g20.pkl\",'wb') as f:\n",
    "    pickle.dump(surX, f)\n",
    "\n",
    "with open(path_test + r\"/y_test_survey_g20.pkl\",'wb') as f:\n",
    "    pickle.dump(sury, f)"
   ]
  },
  {
   "cell_type": "code",
   "execution_count": 20,
   "id": "37d072ac",
   "metadata": {},
   "outputs": [
    {
     "name": "stdout",
     "output_type": "stream",
     "text": [
      "[5, 20, 14, 7, 2, 6, 17, 6, 11, 5, 9, 16, 8, 18, 15, 13, 13, 14, 2, 18, 3, 10, 19, 15, 19, 10, 1, 3, 9, 16, 8, 17, 11, 20, 12, 4, 12, 1, 7, 4]\n",
      "(40, 20)\n"
     ]
    }
   ],
   "source": [
    "print(sury) \n",
    "print(surX.shape)"
   ]
  },
  {
   "cell_type": "markdown",
   "id": "5acb6e43",
   "metadata": {},
   "source": [
    "### 處理 tsne"
   ]
  },
  {
   "cell_type": "code",
   "execution_count": 15,
   "id": "f73c3f27",
   "metadata": {},
   "outputs": [
    {
     "name": "stdout",
     "output_type": "stream",
     "text": [
      "Wall time: 424 ms\n"
     ]
    }
   ],
   "source": [
    "%%time\n",
    "with open(path_tsne + r\"\\X_total_d3pp80.pkl\", \"rb\") as f:\n",
    "    total = pickle.load(f)\n",
    "\n",
    "with open(path_ori + r\"\\loc_train.pkl\", \"rb\") as f:\n",
    "    loc_train = pickle.load(f)\n",
    "with open(path_ori + r\"\\loc_test.pkl\", \"rb\") as f:\n",
    "    loc_test = pickle.load(f)"
   ]
  },
  {
   "cell_type": "code",
   "execution_count": 16,
   "id": "18221324",
   "metadata": {},
   "outputs": [
    {
     "name": "stdout",
     "output_type": "stream",
     "text": [
      "(828845, 3)\n",
      "745961\n",
      "82884\n"
     ]
    }
   ],
   "source": [
    "print(total.shape)\n",
    "print(len(loc_train))\n",
    "print(len(loc_test))"
   ]
  },
  {
   "cell_type": "code",
   "execution_count": 17,
   "id": "09b92dca",
   "metadata": {},
   "outputs": [],
   "source": [
    "train = total[loc_train, ]\n",
    "test = total[loc_test, ]"
   ]
  },
  {
   "cell_type": "code",
   "execution_count": 18,
   "id": "6963b953",
   "metadata": {},
   "outputs": [],
   "source": [
    "with open(path_tsne + r\"/X_train_d3pp80.pkl\",'wb') as f:\n",
    "    pickle.dump(train, f)\n",
    "\n",
    "with open(path_tsne + r\"/X_test_d3pp80.pkl\",'wb') as f:\n",
    "    pickle.dump(test, f)"
   ]
  }
 ],
 "metadata": {
  "kernelspec": {
   "display_name": "Python 3 (ipykernel)",
   "language": "python",
   "name": "python3"
  },
  "language_info": {
   "codemirror_mode": {
    "name": "ipython",
    "version": 3
   },
   "file_extension": ".py",
   "mimetype": "text/x-python",
   "name": "python",
   "nbconvert_exporter": "python",
   "pygments_lexer": "ipython3",
   "version": "3.11.5"
  }
 },
 "nbformat": 4,
 "nbformat_minor": 5
}
