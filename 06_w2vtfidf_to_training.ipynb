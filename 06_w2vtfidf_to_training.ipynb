{
 "cells": [
  {
   "cell_type": "markdown",
   "id": "d7d4ceab",
   "metadata": {},
   "source": [
    "# 從貝的 w2vtfidf 大檔案，取出句向量、 group 的 pickle檔"
   ]
  },
  {
   "cell_type": "code",
   "execution_count": 1,
   "id": "8e382763",
   "metadata": {},
   "outputs": [],
   "source": [
    "import pandas as pd\n",
    "import numpy as np\n",
    "import pickle\n",
    "import glob\n",
    "\n",
    "import warnings\n",
    "warnings.filterwarnings(\"ignore\")"
   ]
  },
  {
   "cell_type": "markdown",
   "id": "91c74d1e",
   "metadata": {},
   "source": [
    "## 1. 匯入資料"
   ]
  },
  {
   "cell_type": "code",
   "execution_count": 13,
   "id": "6998a5f0",
   "metadata": {},
   "outputs": [],
   "source": [
    "path_ = r'C:\\Users\\e2414\\OneDrive\\桌面\\專題\\AllData\\training'  #資料從哪裡來\n",
    "path_ = r'C:\\Users\\e2414\\Downloads'"
   ]
  },
  {
   "cell_type": "markdown",
   "id": "cf9f86af",
   "metadata": {},
   "source": [
    "- #### 匯入貝的 w2vtfidf.pickle"
   ]
  },
  {
   "cell_type": "code",
   "execution_count": 14,
   "id": "f3749d56",
   "metadata": {},
   "outputs": [
    {
     "name": "stdout",
     "output_type": "stream",
     "text": [
      "Wall time: 34.6 s\n"
     ]
    }
   ],
   "source": [
    "%%time\n",
    "with open(path_+ r\"\\w2vtfidf_icon.pickle\", \"rb\") as f:\n",
    "    df = pickle.load(f)"
   ]
  },
  {
   "cell_type": "code",
   "execution_count": 15,
   "id": "555f61e6",
   "metadata": {},
   "outputs": [
    {
     "data": {
      "text/html": [
       "<div>\n",
       "<style scoped>\n",
       "    .dataframe tbody tr th:only-of-type {\n",
       "        vertical-align: middle;\n",
       "    }\n",
       "\n",
       "    .dataframe tbody tr th {\n",
       "        vertical-align: top;\n",
       "    }\n",
       "\n",
       "    .dataframe thead th {\n",
       "        text-align: right;\n",
       "    }\n",
       "</style>\n",
       "<table border=\"1\" class=\"dataframe\">\n",
       "  <thead>\n",
       "    <tr style=\"text-align: right;\">\n",
       "      <th></th>\n",
       "      <th>emoji</th>\n",
       "      <th>Group</th>\n",
       "      <th>句</th>\n",
       "      <th>句向量</th>\n",
       "    </tr>\n",
       "  </thead>\n",
       "  <tbody>\n",
       "    <tr>\n",
       "      <th>0</th>\n",
       "      <td>😆</td>\n",
       "      <td>6</td>\n",
       "      <td>['多久', '抓到']</td>\n",
       "      <td>[ 0.65218834 -0.21410722 -0.4580782  -0.131146...</td>\n",
       "    </tr>\n",
       "    <tr>\n",
       "      <th>1</th>\n",
       "      <td>😅</td>\n",
       "      <td>21</td>\n",
       "      <td>['想像']</td>\n",
       "      <td>[-3.20599973e-01 -2.58198881e+00 -4.44628209e-...</td>\n",
       "    </tr>\n",
       "    <tr>\n",
       "      <th>2</th>\n",
       "      <td>🙄</td>\n",
       "      <td>22</td>\n",
       "      <td>['傻眼']</td>\n",
       "      <td>[-0.01904056  1.86351538  1.21470749 -1.384001...</td>\n",
       "    </tr>\n",
       "    <tr>\n",
       "      <th>3</th>\n",
       "      <td>🙄</td>\n",
       "      <td>22</td>\n",
       "      <td>['綠茶', '語錄', '提到']</td>\n",
       "      <td>[-1.11575400e-01 -1.14677012e+00  5.67219080e-...</td>\n",
       "    </tr>\n",
       "    <tr>\n",
       "      <th>4</th>\n",
       "      <td>😚</td>\n",
       "      <td>8</td>\n",
       "      <td>['好棒', '喔']</td>\n",
       "      <td>[ 0.09705663  1.04277815  0.55273284  0.975592...</td>\n",
       "    </tr>\n",
       "    <tr>\n",
       "      <th>...</th>\n",
       "      <td>...</td>\n",
       "      <td>...</td>\n",
       "      <td>...</td>\n",
       "      <td>...</td>\n",
       "    </tr>\n",
       "    <tr>\n",
       "      <th>828840</th>\n",
       "      <td>😅</td>\n",
       "      <td>21</td>\n",
       "      <td>['小學生', '美勞課', '等級', '種']</td>\n",
       "      <td>[-0.39827831 -0.38948284  0.75657568 -0.695903...</td>\n",
       "    </tr>\n",
       "    <tr>\n",
       "      <th>828841</th>\n",
       "      <td>🤩</td>\n",
       "      <td>11</td>\n",
       "      <td>['但', '無聊', '可以', '去', '找', '拍照', '哦']</td>\n",
       "      <td>[ 8.09125702e-01  7.66757255e-01 -3.14094658e-...</td>\n",
       "    </tr>\n",
       "    <tr>\n",
       "      <th>828842</th>\n",
       "      <td>😊</td>\n",
       "      <td>14</td>\n",
       "      <td>['現在', '邊', '吃', '巧克力', '邊', '發', '張']</td>\n",
       "      <td>[-1.13500556e+00 -3.78311338e-02 -5.03067307e-...</td>\n",
       "    </tr>\n",
       "    <tr>\n",
       "      <th>828843</th>\n",
       "      <td>💪</td>\n",
       "      <td>10</td>\n",
       "      <td>['運動', '結束']</td>\n",
       "      <td>[-6.11602174e-01 -1.19350753e+00  9.95778609e-...</td>\n",
       "    </tr>\n",
       "    <tr>\n",
       "      <th>828844</th>\n",
       "      <td>🤣</td>\n",
       "      <td>4</td>\n",
       "      <td>['有夠', '像', '郊遊']</td>\n",
       "      <td>[-0.79711441  1.27114751 -0.57012008  0.683422...</td>\n",
       "    </tr>\n",
       "  </tbody>\n",
       "</table>\n",
       "<p>828845 rows × 4 columns</p>\n",
       "</div>"
      ],
      "text/plain": [
       "       emoji Group                                       句  \\\n",
       "0          😆     6                            ['多久', '抓到']   \n",
       "1          😅    21                                  ['想像']   \n",
       "2          🙄    22                                  ['傻眼']   \n",
       "3          🙄    22                      ['綠茶', '語錄', '提到']   \n",
       "4          😚     8                             ['好棒', '喔']   \n",
       "...      ...   ...                                     ...   \n",
       "828840     😅    21               ['小學生', '美勞課', '等級', '種']   \n",
       "828841     🤩    11  ['但', '無聊', '可以', '去', '找', '拍照', '哦']   \n",
       "828842     😊    14  ['現在', '邊', '吃', '巧克力', '邊', '發', '張']   \n",
       "828843     💪    10                            ['運動', '結束']   \n",
       "828844     🤣     4                       ['有夠', '像', '郊遊']   \n",
       "\n",
       "                                                      句向量  \n",
       "0       [ 0.65218834 -0.21410722 -0.4580782  -0.131146...  \n",
       "1       [-3.20599973e-01 -2.58198881e+00 -4.44628209e-...  \n",
       "2       [-0.01904056  1.86351538  1.21470749 -1.384001...  \n",
       "3       [-1.11575400e-01 -1.14677012e+00  5.67219080e-...  \n",
       "4       [ 0.09705663  1.04277815  0.55273284  0.975592...  \n",
       "...                                                   ...  \n",
       "828840  [-0.39827831 -0.38948284  0.75657568 -0.695903...  \n",
       "828841  [ 8.09125702e-01  7.66757255e-01 -3.14094658e-...  \n",
       "828842  [-1.13500556e+00 -3.78311338e-02 -5.03067307e-...  \n",
       "828843  [-6.11602174e-01 -1.19350753e+00  9.95778609e-...  \n",
       "828844  [-0.79711441  1.27114751 -0.57012008  0.683422...  \n",
       "\n",
       "[828845 rows x 4 columns]"
      ]
     },
     "execution_count": 15,
     "metadata": {},
     "output_type": "execute_result"
    }
   ],
   "source": [
    "df"
   ]
  },
  {
   "cell_type": "markdown",
   "id": "c6432822",
   "metadata": {},
   "source": [
    "- #### 將貝的 only 句向量 (w2vtfidf 欄位) 轉成 array，存成 pickle: train.pkl"
   ]
  },
  {
   "cell_type": "code",
   "execution_count": 6,
   "id": "c681d87b",
   "metadata": {},
   "outputs": [
    {
     "name": "stdout",
     "output_type": "stream",
     "text": [
      "[[ 0.65218834 -0.21410722 -0.4580782  ... -1.2622006  -0.26142275\n",
      "  -0.07246213]\n",
      " [-0.32059997 -2.58198881 -0.44462821 ...  1.58095908 -0.53294253\n",
      "   0.55833256]\n",
      " [-0.01904056  1.86351538  1.21470749 ... -1.92377532  0.02883724\n",
      "  -0.20730682]\n",
      " ...\n",
      " [-1.13500556 -0.03783113 -0.50306731 ...  0.05386541  0.7362016\n",
      "  -0.84194349]\n",
      " [-0.61160217 -1.19350753  0.09957786 ... -1.00539603 -0.68341188\n",
      "   1.1672041 ]\n",
      " [-0.79711441  1.27114751 -0.57012008 ...  0.48070609  1.61009398\n",
      "  -0.77799455]]\n",
      "Wall time: 20min 58s\n"
     ]
    }
   ],
   "source": [
    "%%time\n",
    "dataa = []\n",
    "for i in range(df.shape[0]):\n",
    "    s = df['句向量'][i].replace(\"\\n\", '').replace(\"    \", ' ').replace(\"   \", ' ').replace(\"  \", ' ').replace(\" \", ', ').replace(\", ]\", ']').replace(\"[, \", '[')\n",
    "    s = eval(s)\n",
    "    if len(s) != 300:\n",
    "        print(i)\n",
    "    dataa.append(s)\n",
    "    \n",
    "train = np.array(dataa)\n",
    "print(train)"
   ]
  },
  {
   "cell_type": "code",
   "execution_count": 7,
   "id": "502f517a",
   "metadata": {},
   "outputs": [
    {
     "data": {
      "text/plain": [
       "(828845, 300)"
      ]
     },
     "execution_count": 7,
     "metadata": {},
     "output_type": "execute_result"
    }
   ],
   "source": [
    "np.shape(train)"
   ]
  },
  {
   "cell_type": "code",
   "execution_count": 8,
   "id": "6fd0fe76",
   "metadata": {},
   "outputs": [
    {
     "name": "stdout",
     "output_type": "stream",
     "text": [
      "Wall time: 45.6 s\n"
     ]
    }
   ],
   "source": [
    "%%time\n",
    "with open(path_ + '/train.pkl','wb') as f:\n",
    "    pickle.dump(train, f)"
   ]
  },
  {
   "cell_type": "markdown",
   "id": "4281a88f",
   "metadata": {},
   "source": [
    "- #### 將句向量的 label (group 欄位) 存成 pickle:  trainlabel.pkl"
   ]
  },
  {
   "cell_type": "code",
   "execution_count": 9,
   "id": "9771f601",
   "metadata": {},
   "outputs": [
    {
     "name": "stdout",
     "output_type": "stream",
     "text": [
      "828845\n",
      "Wall time: 490 ms\n"
     ]
    }
   ],
   "source": [
    "%%time\n",
    "trainlabel = [int(i) for i in df['Group'].tolist()]\n",
    "print(len(trainlabel))\n",
    "\n",
    "with open(path_ + '/trainlabel.pkl','wb') as f:\n",
    "    pickle.dump(trainlabel, f)\n",
    "    "
   ]
  },
  {
   "cell_type": "markdown",
   "id": "d09a2db7",
   "metadata": {},
   "source": [
    "- #### 將句向量的 label (emoji 欄位) 存成 pickle:  train_emo.pkl"
   ]
  },
  {
   "cell_type": "code",
   "execution_count": 12,
   "id": "11e7b572",
   "metadata": {},
   "outputs": [
    {
     "name": "stdout",
     "output_type": "stream",
     "text": [
      "828845\n",
      "Wall time: 25 ms\n"
     ]
    }
   ],
   "source": [
    "%%time\n",
    "emojilabel = df['emoji'].tolist()\n",
    "print(len(emojilabel))\n",
    "\n",
    "with open(path_ + '/train_emo.pkl','wb') as f:\n",
    "    pickle.dump(emojilabel, f)"
   ]
  },
  {
   "cell_type": "code",
   "execution_count": 11,
   "id": "d6ac988a",
   "metadata": {},
   "outputs": [
    {
     "name": "stderr",
     "output_type": "stream",
     "text": [
      "IOPub data rate exceeded.\n",
      "The notebook server will temporarily stop sending output\n",
      "to the client in order to avoid crashing it.\n",
      "To change this limit, set the config variable\n",
      "`--NotebookApp.iopub_data_rate_limit`.\n",
      "\n",
      "Current values:\n",
      "NotebookApp.iopub_data_rate_limit=1000000.0 (bytes/sec)\n",
      "NotebookApp.rate_limit_window=3.0 (secs)\n",
      "\n"
     ]
    }
   ],
   "source": [
    "print(df['emoji'].tolist())"
   ]
  },
  {
   "cell_type": "markdown",
   "id": "03902ea8",
   "metadata": {},
   "source": [
    "<hr>"
   ]
  },
  {
   "cell_type": "markdown",
   "id": "e357898a",
   "metadata": {},
   "source": [
    "### <font color=blue>** 已經有 train.pkl、trainlabel.pkl 檔的話，從以下開始執行 **</font>"
   ]
  },
  {
   "cell_type": "markdown",
   "id": "3902785c",
   "metadata": {},
   "source": [
    "- #### 打開 only 句向量、label 的 pickle"
   ]
  },
  {
   "cell_type": "code",
   "execution_count": 79,
   "id": "255f8498",
   "metadata": {},
   "outputs": [
    {
     "name": "stdout",
     "output_type": "stream",
     "text": [
      "Wall time: 11.7 s\n"
     ]
    }
   ],
   "source": [
    "%%time\n",
    "with open(path_+ r\"/train.pkl\", \"rb\") as f:\n",
    "    train = pickle.load(f)\n",
    "    \n",
    "with open(path_+ r\"/trainlabel.pkl\", \"rb\") as f:\n",
    "    trainlabel = pickle.load(f)"
   ]
  },
  {
   "cell_type": "code",
   "execution_count": 80,
   "id": "3776e240",
   "metadata": {},
   "outputs": [
    {
     "name": "stdout",
     "output_type": "stream",
     "text": [
      "(769046, 300)\n",
      "(769046,)\n"
     ]
    }
   ],
   "source": [
    "print(np.shape(train))\n",
    "print(np.shape(trainlabel))"
   ]
  },
  {
   "cell_type": "markdown",
   "id": "dee53b4b",
   "metadata": {},
   "source": [
    "- #### 檢查"
   ]
  },
  {
   "cell_type": "code",
   "execution_count": 77,
   "id": "24424b41",
   "metadata": {},
   "outputs": [
    {
     "name": "stdout",
     "output_type": "stream",
     "text": [
      "[[ 0.58795896  0.14452732  0.15460534 ... -0.1331455   0.12169977\n",
      "  -1.04989423]\n",
      " [-0.28770837  0.17278296  0.06602251 ... -0.66977687 -0.64229759\n",
      "   0.27203234]\n",
      " [ 0.22320689 -0.14922715 -0.25318762 ... -0.18863435 -0.02397646\n",
      "  -0.14866958]\n",
      " [-0.08519601  0.48142232  0.21571256 ... -0.07885979  0.34994092\n",
      "  -0.33635208]\n",
      " [-0.08519601  0.48142232  0.21571256 ... -0.07885979  0.34994092\n",
      "  -0.33635208]]\n",
      "[17, 5, 5, 2, 3, 1, 7, 7, 14, 5, 21, 7, 15, 15, 7, 7, 1, 14, 2, 3, 7, 6, 7, 15, 15, 7, 5, 1, 7, 2, 5, 18, 9, 2, 4, 7, 9, 11, 5, 11, 13, 1, 2, 2, 5, 21, 2, 14, 2, 6, 6, 6, 6, 3, 25, 8, 2, 23, 4, 5, 1, 2, 5, 14, 7, 5, 2, 16, 3, 3, 2, 4, 26, 2, 6, 1, 4, 4, 8, 21, 3, 13, 14, 7, 11, 6, 7, 6, 30, 6, 7, 7, 6, 30, 6, 6, 6, 6, 6, 6]\n"
     ]
    }
   ],
   "source": [
    "print(train[0:5,])\n",
    "print(trainlabel[:100])"
   ]
  },
  {
   "cell_type": "markdown",
   "id": "80ff7c0d",
   "metadata": {},
   "source": [
    "### 節省空間....."
   ]
  },
  {
   "cell_type": "code",
   "execution_count": 54,
   "id": "de794086",
   "metadata": {},
   "outputs": [],
   "source": [
    "del df"
   ]
  },
  {
   "cell_type": "code",
   "execution_count": null,
   "id": "00ff4fcb",
   "metadata": {},
   "outputs": [],
   "source": []
  },
  {
   "cell_type": "markdown",
   "id": "7dbbc3c3",
   "metadata": {},
   "source": [
    "### <font color = blue> 拿大福柯南歐易的句子試做 </font>\n",
    "**emoji 數量**  \n",
    "貝: 137361 <br>\n",
    "大福: 202477<br>\n",
    "柯南: 138402<br>\n",
    "歐易: 94020<br>\n",
    "大小姐: 14630<br>\n",
    "彭: 182156\n",
    "\n",
    "**貝檔案順序**  \n",
    "Peng -> 大福 -> 柯南 -> 歐易 -> 貝卡-> 貝爾  \n",
    "182157~434899\n"
   ]
  },
  {
   "cell_type": "code",
   "execution_count": 88,
   "id": "31929b25",
   "metadata": {},
   "outputs": [
    {
     "name": "stdout",
     "output_type": "stream",
     "text": [
      "(252743, 300)\n",
      "252743\n"
     ]
    }
   ],
   "source": [
    "usetrain = train[(182157-1):434899, ]\n",
    "uselabel = trainlabel[(182157-1):434899]\n",
    "print(np.shape(usetrain))\n",
    "print(len(uselabel))"
   ]
  },
  {
   "cell_type": "code",
   "execution_count": 89,
   "id": "4f0f3095",
   "metadata": {},
   "outputs": [],
   "source": [
    "with open(path_ + '/3train.pkl','wb') as f:\n",
    "    pickle.dump(usetrain, f)"
   ]
  },
  {
   "cell_type": "code",
   "execution_count": 90,
   "id": "094108ec",
   "metadata": {},
   "outputs": [],
   "source": [
    "with open(path_ + '/3label.pkl','wb') as f:\n",
    "    pickle.dump(uselabel, f)"
   ]
  },
  {
   "cell_type": "code",
   "execution_count": null,
   "id": "9b8ee720",
   "metadata": {},
   "outputs": [],
   "source": []
  },
  {
   "cell_type": "code",
   "execution_count": null,
   "id": "a633ac18",
   "metadata": {},
   "outputs": [],
   "source": []
  },
  {
   "cell_type": "markdown",
   "id": "1fc12cf3",
   "metadata": {},
   "source": [
    "# check 每個人的表情符號"
   ]
  },
  {
   "cell_type": "code",
   "execution_count": 5,
   "id": "6f544798",
   "metadata": {},
   "outputs": [
    {
     "data": {
      "text/plain": [
       "['C:\\\\Users\\\\e2414\\\\OneDrive\\\\桌面\\\\專題\\\\AllData\\\\training\\\\all_emoji\\\\icon40_Belle.pkl',\n",
       " 'C:\\\\Users\\\\e2414\\\\OneDrive\\\\桌面\\\\專題\\\\AllData\\\\training\\\\all_emoji\\\\icon40_Conan.pkl',\n",
       " 'C:\\\\Users\\\\e2414\\\\OneDrive\\\\桌面\\\\專題\\\\AllData\\\\training\\\\all_emoji\\\\icon40_DaFu.pkl',\n",
       " 'C:\\\\Users\\\\e2414\\\\OneDrive\\\\桌面\\\\專題\\\\AllData\\\\training\\\\all_emoji\\\\icon40_Oldyi.pkl',\n",
       " 'C:\\\\Users\\\\e2414\\\\OneDrive\\\\桌面\\\\專題\\\\AllData\\\\training\\\\all_emoji\\\\icon40_彭琳.pkl',\n",
       " 'C:\\\\Users\\\\e2414\\\\OneDrive\\\\桌面\\\\專題\\\\AllData\\\\training\\\\all_emoji\\\\icon40_貝卡.pkl']"
      ]
     },
     "execution_count": 5,
     "metadata": {},
     "output_type": "execute_result"
    }
   ],
   "source": [
    "# 匯入檔案\n",
    "pathh = r'C:\\Users\\e2414\\OneDrive\\桌面\\專題\\AllData\\training\\all_emoji'\n",
    "\n",
    "file2 = glob.glob(pathh + r'\\icon40_*.pkl')\n",
    "\n",
    "file2"
   ]
  },
  {
   "cell_type": "code",
   "execution_count": 34,
   "id": "c0be7ff6",
   "metadata": {},
   "outputs": [
    {
     "name": "stdout",
     "output_type": "stream",
     "text": [
      "Wall time: 2.67 s\n"
     ]
    }
   ],
   "source": [
    "%%time\n",
    "\n",
    "group = 40\n",
    "readfile = []\n",
    "\n",
    "for i in range(len(file2)):\n",
    "    read = pd.read_pickle(file2[i])\n",
    "    \n",
    "    alldata = list(range(np.shape(read)[0]))\n",
    "    trainlabel = [int(i) for i in read['Group'].tolist()]\n",
    "    \n",
    "    allemo = []\n",
    "    for j in range(1, group + 1):\n",
    "        j_emo = len([i for i in alldata if trainlabel[i]== j])\n",
    "        allemo.append(j_emo)\n",
    "        \n",
    "    readfile.append(allemo)"
   ]
  },
  {
   "cell_type": "code",
   "execution_count": 52,
   "id": "b4f2b8d6",
   "metadata": {},
   "outputs": [],
   "source": [
    "allemo_table = pd.DataFrame(readfile, index=[\"貝爾\", \"柯南\", \"大福\", \"歐易\", \"彭\", \"貝卡\"], columns=list(range(1, 40+1))).T\n",
    "allemo_table.to_excel(pathh + \"/all_emoji.xlsx\", index=True)"
   ]
  },
  {
   "cell_type": "markdown",
   "id": "dba5596d",
   "metadata": {},
   "source": [
    "### 個別看"
   ]
  },
  {
   "cell_type": "code",
   "execution_count": 73,
   "id": "2d58ba87",
   "metadata": {},
   "outputs": [
    {
     "name": "stdout",
     "output_type": "stream",
     "text": [
      "14630\n"
     ]
    }
   ],
   "source": [
    "alldata = list(range(np.shape(beca)[0]))\n",
    "print(len(alldata))\n",
    "\n",
    "group = 49\n",
    "\n",
    "# 表情 group 對應的位置\n",
    "allemo = []\n",
    "for j in range(1, group + 1):\n",
    "    j_emo = [i for i in alldata if trainlabel[i]== j]\n",
    "    allemo.append(j_emo)\n",
    "    # allemo:[[group 1 表情符號位置], [group 2 表情符號位置], [], ...[group 49 表情符號位置]]"
   ]
  },
  {
   "cell_type": "code",
   "execution_count": 74,
   "id": "ced67cd9",
   "metadata": {},
   "outputs": [
    {
     "name": "stdout",
     "output_type": "stream",
     "text": [
      "49\n",
      "[1455, 1144, 1401, 1004, 1035, 1498, 1627, 458, 311, 349, 599, 342, 110, 577, 375, 192, 202, 145, 168, 98, 120, 129, 190, 135, 167, 119, 100, 85, 34, 63, 41, 23, 47, 19, 49, 10, 17, 22, 41, 15, 35, 10, 21, 8, 12, 9, 5, 6, 8]\n",
      "14630\n"
     ]
    }
   ],
   "source": [
    "allemoji = [len(allemo[i]) for i in range(49)]\n",
    "\n",
    "print(len(allemoji))\n",
    "print(allemoji)\n",
    "print(sum(allemoji))"
   ]
  }
 ],
 "metadata": {
  "kernelspec": {
   "display_name": "Python 3 (ipykernel)",
   "language": "python",
   "name": "python3"
  },
  "language_info": {
   "codemirror_mode": {
    "name": "ipython",
    "version": 3
   },
   "file_extension": ".py",
   "mimetype": "text/x-python",
   "name": "python",
   "nbconvert_exporter": "python",
   "pygments_lexer": "ipython3",
   "version": "3.9.7"
  }
 },
 "nbformat": 4,
 "nbformat_minor": 5
}
