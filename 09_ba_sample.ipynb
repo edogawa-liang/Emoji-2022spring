{
 "cells": [
  {
   "cell_type": "markdown",
   "id": "b3cffc18",
   "metadata": {},
   "source": [
    "# 0518 Balance data"
   ]
  },
  {
   "cell_type": "code",
   "execution_count": 1,
   "id": "24004bc9",
   "metadata": {},
   "outputs": [],
   "source": [
    "import pandas as pd\n",
    "import numpy as np\n",
    "import random\n",
    "import time\n",
    "time_start = time.time()\n",
    "\n",
    "from sklearn import metrics\n",
    "import warnings\n",
    "warnings.filterwarnings(\"ignore\")\n",
    "\n",
    "PATH= \"C:/Users/user/Ming/Final/\""
   ]
  },
  {
   "cell_type": "code",
   "execution_count": 2,
   "id": "3d289f09",
   "metadata": {},
   "outputs": [],
   "source": [
    "y_train= pd.read_pickle(PATH+ \"y_train.pkl\")\n",
    "X_train= pd.read_pickle(PATH+ \"X_train.pkl\")"
   ]
  },
  {
   "cell_type": "code",
   "execution_count": 3,
   "id": "4a2a5553",
   "metadata": {},
   "outputs": [
    {
     "name": "stdout",
     "output_type": "stream",
     "text": [
      "1  Len:  99928\n",
      "2  Len:  88854\n",
      "3  Len:  64269\n",
      "4  Len:  58830\n",
      "5  Len:  53435\n",
      "6  Len:  39380\n",
      "7  Len:  40830\n",
      "8  Len:  30052\n",
      "9  Len:  29669\n",
      "10  Len:  25622\n",
      "11  Len:  22693\n",
      "12  Len:  22700\n",
      "13  Len:  20563\n",
      "14  Len:  14118\n",
      "15  Len:  16391\n",
      "16  Len:  10761\n",
      "17  Len:  10528\n",
      "18  Len:  10371\n",
      "19  Len:  9168\n",
      "20  Len:  8691\n",
      "21  Len:  8627\n",
      "22  Len:  7507\n",
      "23  Len:  7211\n",
      "24  Len:  5694\n",
      "25  Len:  5352\n",
      "26  Len:  4513\n",
      "27  Len:  3920\n",
      "28  Len:  3823\n",
      "29  Len:  3560\n",
      "30  Len:  3461\n",
      "31  Len:  2323\n",
      "32  Len:  2281\n",
      "33  Len:  2015\n",
      "34  Len:  1530\n",
      "35  Len:  1447\n",
      "36  Len:  1431\n",
      "37  Len:  1182\n",
      "38  Len:  1238\n",
      "39  Len:  1092\n",
      "40  Len:  901\n"
     ]
    }
   ],
   "source": [
    "group_loc= []\n",
    "for i in range(1, 41) :\n",
    "    loc= []\n",
    "    \n",
    "    for j in range(len(y_train)):\n",
    "        if (y_train[j] == i) :\n",
    "            loc.append(j)\n",
    "            \n",
    "    print(i, \" Len: \", len(loc))\n",
    "    group_loc.append(loc)"
   ]
  },
  {
   "cell_type": "markdown",
   "id": "3f896dfb",
   "metadata": {},
   "source": [
    "# Sampling"
   ]
  },
  {
   "cell_type": "code",
   "execution_count": 4,
   "id": "0ac71d0f",
   "metadata": {},
   "outputs": [
    {
     "name": "stdout",
     "output_type": "stream",
     "text": [
      "58291\n"
     ]
    }
   ],
   "source": [
    "sample= []\n",
    "n= 1500\n",
    "\n",
    "for i in range(40):\n",
    "    if (len(group_loc[i]) > n) :\n",
    "        sample.extend(random.sample(group_loc[i], n))\n",
    "    else :\n",
    "        sample.extend(group_loc[i])       \n",
    "\n",
    "print(len(sample))"
   ]
  },
  {
   "cell_type": "code",
   "execution_count": 5,
   "id": "adeb68bf",
   "metadata": {},
   "outputs": [],
   "source": [
    "X_train_sam= X_train[sample]\n",
    "y_train_sam= np.array(y_train)[sample]"
   ]
  },
  {
   "cell_type": "code",
   "execution_count": 8,
   "id": "1df072c3",
   "metadata": {},
   "outputs": [],
   "source": [
    "X_train_sam.dump(PATH+ \"X_train_sam.pkl\")\n",
    "y_train_sam.dump(PATH+ \"y_train_sam.pkl\")"
   ]
  },
  {
   "cell_type": "markdown",
   "id": "74b239be",
   "metadata": {},
   "source": [
    "# Words frequence"
   ]
  },
  {
   "cell_type": "code",
   "execution_count": 75,
   "id": "e9ab236f",
   "metadata": {},
   "outputs": [
    {
     "data": {
      "text/html": [
       "<div>\n",
       "<style scoped>\n",
       "    .dataframe tbody tr th:only-of-type {\n",
       "        vertical-align: middle;\n",
       "    }\n",
       "\n",
       "    .dataframe tbody tr th {\n",
       "        vertical-align: top;\n",
       "    }\n",
       "\n",
       "    .dataframe thead th {\n",
       "        text-align: right;\n",
       "    }\n",
       "</style>\n",
       "<table border=\"1\" class=\"dataframe\">\n",
       "  <thead>\n",
       "    <tr style=\"text-align: right;\">\n",
       "      <th></th>\n",
       "      <th>Word</th>\n",
       "      <th>Sam6_</th>\n",
       "    </tr>\n",
       "  </thead>\n",
       "  <tbody>\n",
       "    <tr>\n",
       "      <th>是</th>\n",
       "      <td>是</td>\n",
       "      <td>3657</td>\n",
       "    </tr>\n",
       "    <tr>\n",
       "      <th>好</th>\n",
       "      <td>好</td>\n",
       "      <td>3413</td>\n",
       "    </tr>\n",
       "    <tr>\n",
       "      <th>一</th>\n",
       "      <td>一</td>\n",
       "      <td>3036</td>\n",
       "    </tr>\n",
       "    <tr>\n",
       "      <th>加油</th>\n",
       "      <td>加油</td>\n",
       "      <td>2935</td>\n",
       "    </tr>\n",
       "    <tr>\n",
       "      <th>真的</th>\n",
       "      <td>真的</td>\n",
       "      <td>2483</td>\n",
       "    </tr>\n",
       "    <tr>\n",
       "      <th>...</th>\n",
       "      <td>...</td>\n",
       "      <td>...</td>\n",
       "    </tr>\n",
       "    <tr>\n",
       "      <th>學生證</th>\n",
       "      <td>學生證</td>\n",
       "      <td>1</td>\n",
       "    </tr>\n",
       "    <tr>\n",
       "      <th>做人</th>\n",
       "      <td>做人</td>\n",
       "      <td>1</td>\n",
       "    </tr>\n",
       "    <tr>\n",
       "      <th>綿密</th>\n",
       "      <td>綿密</td>\n",
       "      <td>1</td>\n",
       "    </tr>\n",
       "    <tr>\n",
       "      <th>原生</th>\n",
       "      <td>原生</td>\n",
       "      <td>1</td>\n",
       "    </tr>\n",
       "    <tr>\n",
       "      <th>雙帥</th>\n",
       "      <td>雙帥</td>\n",
       "      <td>1</td>\n",
       "    </tr>\n",
       "  </tbody>\n",
       "</table>\n",
       "<p>8089 rows × 2 columns</p>\n",
       "</div>"
      ],
      "text/plain": [
       "    Word  Sam6_\n",
       "是      是   3657\n",
       "好      好   3413\n",
       "一      一   3036\n",
       "加油    加油   2935\n",
       "真的    真的   2483\n",
       "..   ...    ...\n",
       "學生證  學生證      1\n",
       "做人    做人      1\n",
       "綿密    綿密      1\n",
       "原生    原生      1\n",
       "雙帥    雙帥      1\n",
       "\n",
       "[8089 rows x 2 columns]"
      ]
     },
     "execution_count": 75,
     "metadata": {},
     "output_type": "execute_result"
    }
   ],
   "source": [
    "words= []\n",
    "for i in data.index :\n",
    "    words.extend(data[\"Sentence\"][i])\n",
    "\n",
    "words = pd.DataFrame(words)\n",
    "words = pd.DataFrame(words[0].value_counts())\n",
    "words.columns= [filename]\n",
    "words.insert(0, 'Word', words.index)\n",
    "words.to_pickle(PATH+ filename+ \"words.pkl\")\n",
    "words"
   ]
  },
  {
   "cell_type": "markdown",
   "id": "3d079c76",
   "metadata": {},
   "source": [
    "# One hot encode"
   ]
  },
  {
   "cell_type": "code",
   "execution_count": 76,
   "id": "32eff081",
   "metadata": {},
   "outputs": [],
   "source": [
    "words= list(words['Word'])\n",
    "oh_encode_df= pd.get_dummies(list(set(words)))\n",
    "\n",
    "del words\n",
    "\n",
    "loc= []\n",
    "for i in oh_encode_df.columns :\n",
    "    for j in oh_encode_df.index :\n",
    "        if (oh_encode_df[i][j] == 1) :\n",
    "            loc.append(j)\n",
    "            break\n",
    "\n",
    "oh_encode_df= oh_encode_df.loc[loc]\n",
    "oh_encode_df= oh_encode_df.reset_index(drop= True)\n",
    "\n",
    "del loc"
   ]
  },
  {
   "cell_type": "code",
   "execution_count": 77,
   "id": "132e51fe",
   "metadata": {},
   "outputs": [
    {
     "name": "stdout",
     "output_type": "stream",
     "text": [
      "時間:  6.84  分鐘\n"
     ]
    }
   ],
   "source": [
    "oh= []\n",
    "\n",
    "for i in data.index :\n",
    "    oh.append(oh_encode_df[data[\"Sentence\"][i]].T.sum().clip(0,1).values)\n",
    "    #if (i % 10000 == 0) :\n",
    "        #time_end = time.time() \n",
    "        #timespend = (time_end- time_start)/60\n",
    "        #print(\"Done \", i, \"時間: \", round(timespend, 2), \" 分鐘\")\n",
    "    \n",
    "oh= pd.DataFrame(np.array(oh))\n",
    "oh.columns= oh_encode_df.columns\n",
    "\n",
    "time_end = time.time() \n",
    "timespend = (time_end- time_start)/60\n",
    "print(\"時間: \", round(timespend, 2), \" 分鐘\")"
   ]
  },
  {
   "cell_type": "markdown",
   "id": "a3895f64",
   "metadata": {},
   "source": [
    "# Training & Testing"
   ]
  },
  {
   "cell_type": "code",
   "execution_count": 78,
   "id": "905eeb9e",
   "metadata": {},
   "outputs": [],
   "source": [
    "# Import Multinomial Naive Bayes model\n",
    "from sklearn.naive_bayes import MultinomialNB\n",
    "# Accuracy\n",
    "from sklearn import metrics\n",
    "# 選出前三高的機率\n",
    "import heapq\n",
    "# Import train_test_split function\n",
    "from sklearn.model_selection import train_test_split"
   ]
  },
  {
   "cell_type": "code",
   "execution_count": 79,
   "id": "df8dc2d9",
   "metadata": {},
   "outputs": [],
   "source": [
    "# Split dataset into training set and test set\n",
    "X_train, X_test, y_train, y_test = train_test_split(oh, \n",
    "  data[\"Group\"], test_size= 0.005, random_state= 109) "
   ]
  },
  {
   "cell_type": "markdown",
   "id": "7ba74277",
   "metadata": {},
   "source": [
    "# Modeling"
   ]
  },
  {
   "cell_type": "code",
   "execution_count": 80,
   "id": "ca502a89",
   "metadata": {},
   "outputs": [
    {
     "name": "stdout",
     "output_type": "stream",
     "text": [
      "時間:  14.25  分鐘\n"
     ]
    }
   ],
   "source": [
    "# Create a Gaussian Classifier\n",
    "mnb = MultinomialNB()\n",
    "# Train the model using the training sets\n",
    "mnb.fit(X_train, y_train)\n",
    "# Predict the response for test dataset\n",
    "y_pred = mnb.predict(X_test)\n",
    "\n",
    "time_end = time.time() \n",
    "timespend = (time_end- time_start)/60\n",
    "print(\"時間: \", round(timespend, 2), \" 分鐘\")"
   ]
  },
  {
   "cell_type": "markdown",
   "id": "875ec782",
   "metadata": {},
   "source": [
    "# 前三高"
   ]
  },
  {
   "cell_type": "code",
   "execution_count": 81,
   "id": "6ad235bc",
   "metadata": {},
   "outputs": [
    {
     "name": "stdout",
     "output_type": "stream",
     "text": [
      "時間:  14.26  分鐘\n"
     ]
    }
   ],
   "source": [
    "all_prob= mnb.predict_proba(X_test)\n",
    "all_prob= pd.DataFrame(all_prob)\n",
    "all_prob.columns= range(1, 36)\n",
    "\n",
    "prob3 = pd.DataFrame(columns= [\"Prob1\", \"Prob2\", \"Prob3\"], index= all_prob.index)\n",
    "\n",
    "for i in all_prob.index :\n",
    "    test = list(all_prob.loc[i])\n",
    "    \n",
    "    big3 = heapq.nlargest(3, test) # 前三高的數值\n",
    "    big3_group = list(map(test.index, big3)) # 前三高的位置\n",
    "    prob3.loc[i]= [i+1 for i in big3_group]\n",
    "\n",
    "prob3['Correct'] = np.nan\n",
    "\n",
    "for i in range(all_prob.shape[0]) :\n",
    "    if list(y_test)[i] in list(prob3.loc[i]) :\n",
    "        prob3['Correct'][i] = True\n",
    "    else:\n",
    "        prob3['Correct'][i] = False\n",
    "        \n",
    "time_end = time.time() \n",
    "timespend = (time_end- time_start)/60\n",
    "print(\"時間: \", round(timespend, 2), \" 分鐘\")"
   ]
  },
  {
   "cell_type": "markdown",
   "id": "7260ff2b",
   "metadata": {},
   "source": [
    "# Accuracy"
   ]
  },
  {
   "cell_type": "code",
   "execution_count": 82,
   "id": "50ba810c",
   "metadata": {},
   "outputs": [
    {
     "name": "stdout",
     "output_type": "stream",
     "text": [
      "Acc1:  0.23170731707317074\n",
      "Acc3:  0.3878048780487805\n"
     ]
    }
   ],
   "source": [
    "Acc = metrics.accuracy_score(y_test, y_pred)\n",
    "Acc3 = np.sum(prob3['Correct'] != 0) / all_prob.shape[0]\n",
    "\n",
    "print(\"Acc1: \", Acc)\n",
    "print(\"Acc3: \", Acc3)"
   ]
  },
  {
   "cell_type": "markdown",
   "id": "36021b24",
   "metadata": {},
   "source": [
    "# 選詞"
   ]
  },
  {
   "cell_type": "code",
   "execution_count": 83,
   "id": "782ae386",
   "metadata": {},
   "outputs": [],
   "source": [
    "groups = y_train.value_counts()\n",
    "groups = pd.DataFrame(groups)\n",
    "groups.columns = [\"count\"]\n",
    "groups[\"prop\"]= groups[\"count\"] / groups[\"count\"].sum(axis= 0)"
   ]
  },
  {
   "cell_type": "code",
   "execution_count": 84,
   "id": "339259a8",
   "metadata": {},
   "outputs": [
    {
     "name": "stdout",
     "output_type": "stream",
     "text": [
      "時間:  18.81  分鐘\n"
     ]
    }
   ],
   "source": [
    "all_prob= mnb.predict_proba(oh_encode_df)\n",
    "all_prob= pd.DataFrame(all_prob)\n",
    "all_prob.columns= range(1, 36)\n",
    "sd= []\n",
    "\n",
    "for i in all_prob.index :\n",
    "    for j in range(1, 36) :\n",
    "            all_prob[j][i]= all_prob[j][i]/ groups[\"prop\"][j]\n",
    "\n",
    "    max_val= max(all_prob.loc[i])\n",
    "    all_prob.loc[i]= [k/max_val for k in all_prob.loc[i]]\n",
    "    \n",
    "    sd.append(np.std(all_prob.loc[i], ddof= 0))\n",
    "\n",
    "all_prob.index= oh_encode_df.columns\n",
    "all_prob.to_excel(PATH+ filename+ \"all_prob.xlsx\")\n",
    "sd= pd.DataFrame(sd)\n",
    "sd.index= oh_encode_df.columns\n",
    "sd.columns= [filename]\n",
    "sd= sd.sort_values(by= [filename])\n",
    "sd.insert(0, 'Word', sd.index)\n",
    "sd.to_excel(PATH+ filename+ \"sd.xlsx\", index= False)\n",
    "\n",
    "time_end = time.time() \n",
    "timespend = (time_end- time_start)/60\n",
    "print(\"時間: \", round(timespend, 2), \" 分鐘\")"
   ]
  }
 ],
 "metadata": {
  "kernelspec": {
   "display_name": "Python 3 (ipykernel)",
   "language": "python",
   "name": "python3"
  },
  "language_info": {
   "codemirror_mode": {
    "name": "ipython",
    "version": 3
   },
   "file_extension": ".py",
   "mimetype": "text/x-python",
   "name": "python",
   "nbconvert_exporter": "python",
   "pygments_lexer": "ipython3",
   "version": "3.9.7"
  }
 },
 "nbformat": 4,
 "nbformat_minor": 5
}
