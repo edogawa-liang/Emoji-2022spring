{
 "cells": [
  {
   "cell_type": "code",
   "execution_count": 8,
   "id": "91fbfb1b",
   "metadata": {},
   "outputs": [],
   "source": [
    "import pandas as pd\n",
    "import numpy as np\n",
    "import re"
   ]
  },
  {
   "cell_type": "code",
   "execution_count": 9,
   "id": "16cd39e7",
   "metadata": {},
   "outputs": [],
   "source": [
    "import warnings\n",
    "warnings.filterwarnings(\"ignore\")"
   ]
  },
  {
   "cell_type": "markdown",
   "id": "fd76cc0e",
   "metadata": {},
   "source": [
    "## FB (post & reply 一起跑)"
   ]
  },
  {
   "cell_type": "code",
   "execution_count": 1,
   "id": "02b056d4",
   "metadata": {},
   "outputs": [],
   "source": [
    "%%time\n",
    "path_from = \"C:/Users/e2414/OneDrive/桌面/專題/AllData/crawler/upload/alreadyclean/\"\n",
    "path_go = \"C:/Users/e2414/OneDrive/桌面/專題/AllData/rawdata_nocut/\"\n",
    "\n",
    "start_ID = 200 # 檔案起始 ID\n",
    "end_ID = 265 # 檔案結束 ID\n",
    "\n",
    "total_len = pd.DataFrame(columns=['File','Count'])\n",
    "\n",
    "\n",
    "for i in range(start_ID, (end_ID + 1)):  \n",
    "    # 匯入檔案\n",
    "    reply_file = \"FBreply_\" + str(i) + \".xlsx\"\n",
    "    post_file = \"FBpost_\" + str(i) + \".xlsx\"\n",
    "    \n",
    "    reply_data = pd.read_excel(path_from + reply_file)\n",
    "    post_data = pd.read_excel(path_from + post_file)\n",
    "    \n",
    "    reply_list= reply_data['reply'].tolist()\n",
    "    post_list= post_data['post'].tolist()\n",
    "    \n",
    "    \n",
    "    reply_df= pd.DataFrame(columns= ['ID','content'])\n",
    "    for j in range(len(reply_list)):\n",
    "        BYEemoji= ','.join(re.findall(r'[\\u4e00-\\u9fa5]+', str(reply_list[j])))\n",
    "        ID= str(i) + str(j).zfill(4)\n",
    "\n",
    "        reply_df= reply_df.append({'ID': ID,\n",
    "                                   'content': BYEemoji}, ignore_index= True)\n",
    "    \n",
    "    \n",
    "    post_df= pd.DataFrame(columns= ['ID','content'])\n",
    "    for j in range(len(post_list)):\n",
    "        BYEemoji= ','.join(re.findall(r'[\\u4e00-\\u9fa5]+', str(post_list[j])))\n",
    "        ID= str(i) + str(j).zfill(4)\n",
    "\n",
    "        post_df= post_df.append({'ID': ID,\n",
    "                                 'content': BYEemoji}, ignore_index= True)\n",
    "        \n",
    "    \n",
    "    # 刪除去掉表情後是空的列\n",
    "    blank = reply_df.index[reply_df['content'] == ''].tolist()\n",
    "    reply_df = reply_df.drop(blank, axis=0)\n",
    "    \n",
    "    blank = post_df.index[post_df['content'] == ''].tolist()\n",
    "    post_df = post_df.drop(blank, axis=0)\n",
    "    \n",
    "    \n",
    "    reply_df.to_excel(path_go+ f\"raw_nocut_{i}.xlsx\")   \n",
    "    post_df.to_excel(path_go+ f\"raw_nocut_1{i}.xlsx\")\n",
    "    \n",
    "    total_len = total_len.append({'File' : i , 'Count' : len(reply_list)+ len(post_list)} , ignore_index=True)\n",
    "    \n",
    "total_len.to_excel(path_go+ f\"{start_ID}_{end_ID}.xlsx\")"
   ]
  },
  {
   "cell_type": "markdown",
   "id": "096f7742",
   "metadata": {},
   "source": [
    "## fb 輸出時 post跟 reply 兩個檔案並一起 (不要用.....)"
   ]
  },
  {
   "cell_type": "code",
   "execution_count": 10,
   "id": "cba96e0f",
   "metadata": {},
   "outputs": [
    {
     "name": "stdout",
     "output_type": "stream",
     "text": [
      "Wall time: 1min 19s\n"
     ]
    }
   ],
   "source": [
    "%%time\n",
    "path_from = \"C:/Users/e2414/OneDrive/桌面/專題/AllData/crawler/upload/alreadyclean/\"\n",
    "path_go = \"C:/Users/e2414/OneDrive/桌面/專題/AllData/rawdata_nocut/\"\n",
    "\n",
    "start_ID = 816 # 檔案起始 ID\n",
    "end_ID = 818 # 檔案結束 ID\n",
    "\n",
    "total_len = pd.DataFrame(columns=['File','Count'])\n",
    "\n",
    "\n",
    "for i in range(start_ID, (end_ID + 1)):  \n",
    "    # 匯入檔案\n",
    "    reply_file = \"FB_\" + str(i) + \".xlsx\"\n",
    "    \n",
    "    reply_data = pd.read_excel(path_from + reply_file)\n",
    "    \n",
    "    reply_list= reply_data['post'].tolist()\n",
    "    \n",
    "    \n",
    "    reply_df= pd.DataFrame(columns= ['ID','content'])\n",
    "    for j in range(len(reply_list)):\n",
    "        BYEemoji= ','.join(re.findall(r'[\\u4e00-\\u9fa5]+', str(reply_list[j])))\n",
    "        ID= str(i) + str(j).zfill(4)\n",
    "\n",
    "        reply_df= reply_df.append({'ID': ID,\n",
    "                                   'content': BYEemoji}, ignore_index= True)\n",
    "    \n",
    "\n",
    "        \n",
    "    \n",
    "    # 刪除去掉表情後是空的列\n",
    "    blank = reply_df.index[reply_df['content'] == ''].tolist()\n",
    "    reply_df = reply_df.drop(blank, axis=0)\n",
    "    \n",
    "\n",
    "    \n",
    "    reply_df.to_excel(path_go+ f\"raw_nocut_{i}.xlsx\")   \n",
    "    \n",
    "    total_len = total_len.append({'File' : i , 'Count' : len(reply_list)} , ignore_index=True)\n",
    "    \n",
    "total_len.to_excel(path_go+ f\"{start_ID}_{end_ID}.xlsx\")"
   ]
  },
  {
   "cell_type": "markdown",
   "id": "af2449f6",
   "metadata": {},
   "source": [
    "## IG"
   ]
  },
  {
   "cell_type": "code",
   "execution_count": 6,
   "id": "67910d31",
   "metadata": {},
   "outputs": [
    {
     "name": "stdout",
     "output_type": "stream",
     "text": [
      "Wall time: 3min 12s\n"
     ]
    }
   ],
   "source": [
    "%%time\n",
    "path_from = \"C:/Users/e2414/OneDrive/桌面/專題/AllData/crawler/upload/alreadyclean/\"\n",
    "path_go = \"C:/Users/e2414/OneDrive/桌面/專題/AllData/rawdata_nocut/\"\n",
    "\n",
    "#path_from = \"C:/Users/User/Desktop/DATA2/\"\n",
    "#path_go = \"C:/Users/User/Desktop/rawnocut/\"\n",
    "\n",
    "start_ID = 812 # 檔案起始 ID\n",
    "end_ID = 815  # 檔案結束 ID\n",
    "\n",
    "total_len = pd.DataFrame(columns=['File','Count'])\n",
    "\n",
    "\n",
    "for i in range(start_ID, (end_ID + 1)):  \n",
    "    # 匯入檔案\n",
    "    file = \"IG_\" + str(i) + \".xlsx\"\n",
    "    df = pd.read_excel(path_from + file)\n",
    "    \n",
    "    \n",
    "    # 先刪除內容為空ㄉ列\n",
    "    df= df[df['post'].notna()]   \n",
    "\n",
    "    # 將內容轉成list\n",
    "    cutlist= df['post'].tolist()   \n",
    "    \n",
    "    \n",
    "    df1= pd.DataFrame(columns=['ID','content'])\n",
    "    for j in range(len(cutlist)):\n",
    "        \n",
    "        BYEemoji= ','.join(re.findall(r'[\\u4e00-\\u9fa5]+', str(cutlist[j])))\n",
    "        ID= str(i) + str(j).zfill(4)\n",
    "        \n",
    "        df1= df1.append({'ID': ID, 'content': BYEemoji}, ignore_index= True)\n",
    "    \n",
    "    \n",
    "    # 刪除去掉表情後是空的列\n",
    "    blank = df1.index[df1['content'] == ''].tolist()\n",
    "    df1 = df1.drop(blank, axis=0)\n",
    "    \n",
    "    df1.to_excel(path_go+ f\"raw_nocut_{i}.xlsx\") \n",
    "    \n",
    "    total_len = total_len.append({'File' : i , 'Count' : len(df1)} , ignore_index=True)\n",
    "\n",
    "total_len.to_excel(path_go+ f\"{start_ID}_{end_ID}.xlsx\")"
   ]
  },
  {
   "cell_type": "markdown",
   "id": "c7c4fe1c",
   "metadata": {},
   "source": [
    "## LINE"
   ]
  },
  {
   "cell_type": "code",
   "execution_count": 2,
   "id": "8ea4f3ef",
   "metadata": {},
   "outputs": [],
   "source": [
    "%%time\n",
    "path_from = \"C:/Users/e2414/OneDrive/桌面/專題/AllData/line_crawler/\"\n",
    "path_go = \"C:/Users/e2414/OneDrive/桌面/專題/AllData/rawdata_nocut/\"\n",
    "\n",
    "#start_ID = 280 # 檔案起始 ID\n",
    "#end_ID = 299 # 檔案結束 ID\n",
    "\n",
    "start_ID = 800 # 檔案起始 ID\n",
    "end_ID = 804 # 檔案結束 ID\n",
    "\n",
    "\n",
    "total_len = pd.DataFrame(columns=['File','Count'])\n",
    "\n",
    "for i in range(start_ID, (end_ID + 1)):  \n",
    "    # 匯入檔案\n",
    "    file = \"line\" + str(i) + \".xlsx\"\n",
    "\n",
    "    df = pd.read_excel(path_from + file)\n",
    "    \n",
    "    \n",
    "    # 先刪除內容為空ㄉ列\n",
    "    df= df[df['content'].notna()]    # line\n",
    "  \n",
    "    # 將內容轉成list\n",
    "    cutlist= df['content'].tolist()  # line\n",
    "\n",
    "    \n",
    "    \n",
    "    df1= pd.DataFrame(columns=['ID','content'])\n",
    "    for j in range(len(cutlist)):\n",
    "        \n",
    "        BYEemoji= ','.join(re.findall(r'[\\u4e00-\\u9fa5]+', str(cutlist[j])))\n",
    "        ID= str(i) + str(j).zfill(4)\n",
    "    \n",
    "    \n",
    "        # ---line 才需要\n",
    "        byebye=[\"照片\",\"影片\",\"貼圖\",\"相簿\",\"記事本\",\"檔案\",\"爬梯子遊戲已建立\",\"已新增\",\"變更群組照片\",\n",
    "                \"已收回訊息\",\"投票\",\"語音訊息\",\"通話時間\",\"未接來電\",\"群組通話\", \"無人接聽\", \"取消通話\"]\n",
    "        if any(k in cutlist[j] for k in byebye):\n",
    "            continue \n",
    "        #---------------------------------------\n",
    "        \n",
    "        df1= df1.append({'ID': ID, 'content': BYEemoji}, ignore_index= True)\n",
    "    \n",
    "    \n",
    "    # 刪除去掉表情後是空的列\n",
    "    blank = df1.index[df1['content'] == ''].tolist()\n",
    "    df1 = df1.drop(blank, axis=0)\n",
    "    \n",
    "    df1.to_excel(path_go+ f\"raw_nocut_{i}.xlsx\")   \n",
    "    \n",
    "    total_len = total_len.append({'File' : i , 'Count' : len(df1)} , ignore_index=True)\n",
    "\n",
    "\n",
    "total_len.to_excel(path_go+ f\"{start_ID}_{end_ID}.xlsx\")"
   ]
  }
 ],
 "metadata": {
  "kernelspec": {
   "display_name": "Python 3 (ipykernel)",
   "language": "python",
   "name": "python3"
  },
  "language_info": {
   "codemirror_mode": {
    "name": "ipython",
    "version": 3
   },
   "file_extension": ".py",
   "mimetype": "text/x-python",
   "name": "python",
   "nbconvert_exporter": "python",
   "pygments_lexer": "ipython3",
   "version": "3.11.5"
  }
 },
 "nbformat": 4,
 "nbformat_minor": 5
}
