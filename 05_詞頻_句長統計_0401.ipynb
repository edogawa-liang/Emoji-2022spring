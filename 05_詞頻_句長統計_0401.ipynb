{
 "cells": [
  {
   "cell_type": "markdown",
   "id": "39e5a809",
   "metadata": {},
   "source": [
    "## 詞頻統計 & 句長統計\n",
    "\n",
    "output_file_name 就請大家輸入各自的名字, 這是為了方便最後彙整所有人的檔案~  \n",
    "最後會輸出兩個檔案, 詞頻的跟句長的.\n",
    "\n",
    "### 詞頻\n",
    "最後只會輸出兩個變數, 一個是 Word, 一個是 output_file_name,  \n",
    "Word 就是詞, output_file_name 是次數.\n",
    "\n",
    "### 句長\n",
    "最後只會輸出兩個變數, 一個是 Length, 一個是 output_file_name,  \n",
    "Length 就是句子長度, output_file_name 是次數."
   ]
  },
  {
   "cell_type": "code",
   "execution_count": 2,
   "id": "e24672f2",
   "metadata": {},
   "outputs": [],
   "source": [
    "import pandas as pd\n",
    "raw_PATH_out = \"C:/Users/e2414/OneDrive/桌面/專題/AllData/training/\" # 匯出路徑\n",
    "output_file_name = \"柯南\""
   ]
  },
  {
   "cell_type": "markdown",
   "id": "ba7bb009",
   "metadata": {},
   "source": [
    "# 進入word2vec的raw"
   ]
  },
  {
   "cell_type": "code",
   "execution_count": 3,
   "id": "ff60b0f9",
   "metadata": {},
   "outputs": [],
   "source": [
    "raw_PATH_in = \"C:/Users/e2414/OneDrive/桌面/專題/AllData/wordcut/finish_cut/byestop_raw/\" # 匯入路徑"
   ]
  },
  {
   "cell_type": "code",
   "execution_count": 4,
   "id": "653a2a90",
   "metadata": {},
   "outputs": [
    {
     "name": "stdout",
     "output_type": "stream",
     "text": [
      "Wall time: 1min 1s\n"
     ]
    }
   ],
   "source": [
    "%%time\n",
    "# fb\n",
    "start_ID = 200 \n",
    "end_ID = 265 \n",
    "\n",
    "# 匯入第一個檔案\n",
    "data_word = pd.read_excel(raw_PATH_in+ \"Raw_nsw_i\"+ str(start_ID)+ \".xlsx\") # 詞頻\n",
    "data_len = pd.read_excel(raw_PATH_in+ \"Raw_nsw_l\"+ str(start_ID)+ \".xlsx\") # 句長\n",
    "\n",
    "# 匯入後續檔案\n",
    "for i in range((start_ID + 1), (end_ID + 1)) :\n",
    "    # 詞頻\n",
    "    df_word = pd.read_excel(raw_PATH_in+ \"Raw_nsw_i\"+ str(i)+ \".xlsx\") # 匯入檔案\n",
    "    data_word = data_word.merge(df_word, how= \"outer\") # df 與 data 串接\n",
    "    # 句長\n",
    "    df_len = pd.read_excel(raw_PATH_in+ \"Raw_nsw_l\"+ str(i)+ \".xlsx\") # 匯入檔案\n",
    "    data_len = data_len.merge(df_len, how= \"outer\") # df 與 data 串接   \n",
    "    \n",
    "    \n",
    "start_ID = 1200 \n",
    "end_ID = 1202    \n",
    "# 匯入後續檔案\n",
    "for i in range((start_ID + 1), (end_ID + 1)) :\n",
    "    # 詞頻\n",
    "    df_word = pd.read_excel(raw_PATH_in+ \"Raw_nsw_i\"+ str(i)+ \".xlsx\") # 匯入檔案\n",
    "    data_word = data_word.merge(df_word, how= \"outer\") # df 與 data 串接\n",
    "    # 句長\n",
    "    df_len = pd.read_excel(raw_PATH_in+ \"Raw_nsw_l\"+ str(i)+ \".xlsx\") # 匯入檔案\n",
    "    data_len = data_len.merge(df_len, how= \"outer\") # df 與 data 串接       \n",
    "\n",
    "\n",
    "start_ID = 1204 \n",
    "end_ID = 1265     \n",
    "for i in range((start_ID + 1), (end_ID + 1)) :\n",
    "    # 詞頻\n",
    "    df_word = pd.read_excel(raw_PATH_in+ \"Raw_nsw_i\"+ str(i)+ \".xlsx\") # 匯入檔案\n",
    "    data_word = data_word.merge(df_word, how= \"outer\") # df 與 data 串接\n",
    "    # 句長\n",
    "    df_len = pd.read_excel(raw_PATH_in+ \"Raw_nsw_l\"+ str(i)+ \".xlsx\") # 匯入檔案\n",
    "    data_len = data_len.merge(df_len, how= \"outer\") # df 與 data 串接       \n",
    "    \n",
    "    \n",
    "# line\n",
    "start_ID = 280 \n",
    "end_ID = 299    \n",
    "for i in range((start_ID + 1), (end_ID + 1)) :\n",
    "    # 詞頻\n",
    "    df_word = pd.read_excel(raw_PATH_in+ \"Raw_nsw_i\"+ str(i)+ \".xlsx\") # 匯入檔案\n",
    "    data_word = data_word.merge(df_word, how= \"outer\") # df 與 data 串接\n",
    "    # 句長\n",
    "    df_len = pd.read_excel(raw_PATH_in+ \"Raw_nsw_l\"+ str(i)+ \".xlsx\") # 匯入檔案\n",
    "    data_len = data_len.merge(df_len, how= \"outer\") # df 與 data 串接           \n",
    "    \n",
    "    \n",
    "start_ID = 800 \n",
    "end_ID = 804\n",
    "for i in range((start_ID + 1), (end_ID + 1)) :\n",
    "    # 詞頻\n",
    "    df_word = pd.read_excel(raw_PATH_in+ \"Raw_nsw_i\"+ str(i)+ \".xlsx\") # 匯入檔案\n",
    "    data_word = data_word.merge(df_word, how= \"outer\") # df 與 data 串接\n",
    "    # 句長\n",
    "    df_len = pd.read_excel(raw_PATH_in+ \"Raw_nsw_l\"+ str(i)+ \".xlsx\") # 匯入檔案\n",
    "    data_len = data_len.merge(df_len, how= \"outer\") # df 與 data 串接 \n",
    "\n",
    "    \n",
    "\n",
    "# ig\n",
    "start_ID = 266 \n",
    "end_ID = 279  \n",
    "for i in range((start_ID + 1), (end_ID + 1)) :\n",
    "    # 詞頻\n",
    "    df_word = pd.read_excel(raw_PATH_in+ \"Raw_nsw_i\"+ str(i)+ \".xlsx\") # 匯入檔案\n",
    "    data_word = data_word.merge(df_word, how= \"outer\") # df 與 data 串接\n",
    "    # 句長\n",
    "    df_len = pd.read_excel(raw_PATH_in+ \"Raw_nsw_l\"+ str(i)+ \".xlsx\") # 匯入檔案\n",
    "    data_len = data_len.merge(df_len, how= \"outer\") # df 與 data 串接 \n",
    "    \n",
    "    \n",
    "\n",
    "start_ID = 805 \n",
    "#end_ID = 811  \n",
    "end_ID = 818\n",
    "for i in range((start_ID + 1), (end_ID + 1)) :\n",
    "    # 詞頻\n",
    "    df_word = pd.read_excel(raw_PATH_in+ \"Raw_nsw_i\"+ str(i)+ \".xlsx\") # 匯入檔案\n",
    "    data_word = data_word.merge(df_word, how= \"outer\") # df 與 data 串接\n",
    "    # 句長\n",
    "    df_len = pd.read_excel(raw_PATH_in+ \"Raw_nsw_l\"+ str(i)+ \".xlsx\") # 匯入檔案\n",
    "    data_len = data_len.merge(df_len, how= \"outer\") # df 與 data 串接 \n",
    "\n",
    "    \n",
    "    \n",
    "# 詞頻\n",
    "data_word.set_index(\"Word\", inplace= True) # 設定 index\n",
    "data_word[output_file_name]= data_word.sum(axis= 1) # 計算總數\n",
    "data_word = data_word.sort_values(by = [output_file_name], ascending = False)\n",
    "\n",
    "# 句長\n",
    "# 詞頻\n",
    "data_len.set_index(\"Length\", inplace= True) # 設定 index\n",
    "data_len = data_len.sort_values(by = ['Length'], ascending = True)\n",
    "data_len[output_file_name]= data_len.sum(axis= 1) # 計算總數\n",
    "\n"
   ]
  },
  {
   "cell_type": "markdown",
   "id": "b7037e16",
   "metadata": {},
   "source": [
    "## 檢查一下檔案總數對不對"
   ]
  },
  {
   "cell_type": "code",
   "execution_count": 5,
   "id": "7288f54c",
   "metadata": {},
   "outputs": [
    {
     "name": "stdout",
     "output_type": "stream",
     "text": [
      "Word 總共匯入 178 個檔案\n",
      "Length 總共匯入 178 個檔案\n"
     ]
    }
   ],
   "source": [
    "print(\"Word 總共匯入 \"+ str(data_word.shape[1]- 1)+ \" 個檔案\")\n",
    "print(\"Length 總共匯入 \"+ str(data_len.shape[1]- 1)+ \" 個檔案\")"
   ]
  },
  {
   "cell_type": "code",
   "execution_count": 6,
   "id": "4863d970",
   "metadata": {},
   "outputs": [],
   "source": [
    "data_word[output_file_name].to_excel(raw_PATH_out+ \"Liang_w2v_tf.xlsx\")\n",
    "data_len[output_file_name].to_excel(raw_PATH_out+ \"Liang_w2v_len.xlsx\")"
   ]
  },
  {
   "cell_type": "markdown",
   "id": "70455e73",
   "metadata": {},
   "source": [
    "<hr>"
   ]
  },
  {
   "cell_type": "markdown",
   "id": "7d667491",
   "metadata": {},
   "source": [
    "# 表情符號"
   ]
  },
  {
   "cell_type": "code",
   "execution_count": 7,
   "id": "081a98be",
   "metadata": {},
   "outputs": [],
   "source": [
    "raw_PATH_in = \"C:/Users/e2414/OneDrive/桌面/專題/AllData/wordcut/finish_cut/byestop_emoji/\" # 匯入路徑"
   ]
  },
  {
   "cell_type": "code",
   "execution_count": 8,
   "id": "13e53124",
   "metadata": {},
   "outputs": [
    {
     "name": "stdout",
     "output_type": "stream",
     "text": [
      "Wall time: 18 s\n"
     ]
    }
   ],
   "source": [
    "%%time\n",
    "# fb\n",
    "start_ID = 200 \n",
    "end_ID = 265 \n",
    "\n",
    "# 匯入第一個檔案\n",
    "data_word = pd.read_excel(raw_PATH_in+ \"emoji_nsw_i\"+ str(start_ID)+ \".xlsx\") # 詞頻\n",
    "data_len = pd.read_excel(raw_PATH_in+ \"emoji_nsw_l\"+ str(start_ID)+ \".xlsx\") # 句長\n",
    "\n",
    "# 匯入後續檔案\n",
    "for i in range((start_ID + 1), (end_ID + 1)) :\n",
    "    # 詞頻\n",
    "    df_word = pd.read_excel(raw_PATH_in+ \"emoji_nsw_i\"+ str(i)+ \".xlsx\") # 匯入檔案\n",
    "    data_word = data_word.merge(df_word, how= \"outer\") # df 與 data 串接\n",
    "    # 句長\n",
    "    df_len = pd.read_excel(raw_PATH_in+ \"emoji_nsw_l\"+ str(i)+ \".xlsx\") # 匯入檔案\n",
    "    data_len = data_len.merge(df_len, how= \"outer\") # df 與 data 串接   \n",
    "    \n",
    "    \n",
    "start_ID = 1201 \n",
    "end_ID = 1202    \n",
    "# 匯入後續檔案\n",
    "for i in range((start_ID + 1), (end_ID + 1)) :\n",
    "    # 詞頻\n",
    "    df_word = pd.read_excel(raw_PATH_in+ \"emoji_nsw_i\"+ str(i)+ \".xlsx\") # 匯入檔案\n",
    "    data_word = data_word.merge(df_word, how= \"outer\") # df 與 data 串接\n",
    "    # 句長\n",
    "    df_len = pd.read_excel(raw_PATH_in+ \"emoji_nsw_l\"+ str(i)+ \".xlsx\") # 匯入檔案\n",
    "    data_len = data_len.merge(df_len, how= \"outer\") # df 與 data 串接       \n",
    "\n",
    "\n",
    "start_ID = 1204 \n",
    "end_ID = 1265     \n",
    "for i in range((start_ID + 1), (end_ID + 1)) :\n",
    "    # 詞頻\n",
    "    df_word = pd.read_excel(raw_PATH_in+ \"emoji_nsw_i\"+ str(i)+ \".xlsx\") # 匯入檔案\n",
    "    data_word = data_word.merge(df_word, how= \"outer\") # df 與 data 串接\n",
    "    # 句長\n",
    "    df_len = pd.read_excel(raw_PATH_in+ \"emoji_nsw_l\"+ str(i)+ \".xlsx\") # 匯入檔案\n",
    "    data_len = data_len.merge(df_len, how= \"outer\") # df 與 data 串接       \n",
    "    \n",
    "    \n",
    "# line\n",
    "start_ID = 280 \n",
    "end_ID = 299    \n",
    "for i in range((start_ID + 1), (end_ID + 1)) :\n",
    "    # 詞頻\n",
    "    df_word = pd.read_excel(raw_PATH_in+ \"emoji_nsw_i\"+ str(i)+ \".xlsx\") # 匯入檔案\n",
    "    data_word = data_word.merge(df_word, how= \"outer\") # df 與 data 串接\n",
    "    # 句長\n",
    "    df_len = pd.read_excel(raw_PATH_in+ \"emoji_nsw_l\"+ str(i)+ \".xlsx\") # 匯入檔案\n",
    "    data_len = data_len.merge(df_len, how= \"outer\") # df 與 data 串接           \n",
    "    \n",
    "    \n",
    "start_ID = 800 \n",
    "end_ID = 804\n",
    "for i in range((start_ID + 1), (end_ID + 1)) :\n",
    "    # 詞頻\n",
    "    df_word = pd.read_excel(raw_PATH_in+ \"emoji_nsw_i\"+ str(i)+ \".xlsx\") # 匯入檔案\n",
    "    data_word = data_word.merge(df_word, how= \"outer\") # df 與 data 串接\n",
    "    # 句長\n",
    "    df_len = pd.read_excel(raw_PATH_in+ \"emoji_nsw_l\"+ str(i)+ \".xlsx\") # 匯入檔案\n",
    "    data_len = data_len.merge(df_len, how= \"outer\") # df 與 data 串接 \n",
    "\n",
    "    \n",
    "\n",
    "# ig\n",
    "start_ID = 266 \n",
    "end_ID = 279  \n",
    "for i in range((start_ID + 1), (end_ID + 1)) :\n",
    "    # 詞頻\n",
    "    df_word = pd.read_excel(raw_PATH_in+ \"emoji_nsw_i\"+ str(i)+ \".xlsx\") # 匯入檔案\n",
    "    data_word = data_word.merge(df_word, how= \"outer\") # df 與 data 串接\n",
    "    # 句長\n",
    "    df_len = pd.read_excel(raw_PATH_in+ \"emoji_nsw_l\"+ str(i)+ \".xlsx\") # 匯入檔案\n",
    "    data_len = data_len.merge(df_len, how= \"outer\") # df 與 data 串接 \n",
    "    \n",
    "    \n",
    "\n",
    "start_ID = 805 \n",
    "#end_ID = 811  \n",
    "end_ID = 818\n",
    "for i in range((start_ID + 1), (end_ID + 1)) :\n",
    "    # 詞頻\n",
    "    df_word = pd.read_excel(raw_PATH_in+ \"emoji_nsw_i\"+ str(i)+ \".xlsx\") # 匯入檔案\n",
    "    data_word = data_word.merge(df_word, how= \"outer\") # df 與 data 串接\n",
    "    # 句長\n",
    "    df_len = pd.read_excel(raw_PATH_in+ \"emoji_nsw_l\"+ str(i)+ \".xlsx\") # 匯入檔案\n",
    "    data_len = data_len.merge(df_len, how= \"outer\") # df 與 data 串接 \n",
    "\n",
    "    \n",
    "    \n",
    "# 詞頻\n",
    "data_word.set_index(\"Word\", inplace= True) # 設定 index\n",
    "data_word[output_file_name]= data_word.sum(axis= 1) # 計算總數\n",
    "data_word = data_word.sort_values(by = [output_file_name], ascending = False)\n",
    "\n",
    "# 句長\n",
    "# 詞頻\n",
    "data_len.set_index(\"Length\", inplace= True) # 設定 index\n",
    "data_len = data_len.sort_values(by = ['Length'], ascending = True)\n",
    "data_len[output_file_name]= data_len.sum(axis= 1) # 計算總數\n",
    "\n"
   ]
  },
  {
   "cell_type": "markdown",
   "id": "d7bd5d9b",
   "metadata": {},
   "source": [
    "## 檢查一下檔案總數對不對"
   ]
  },
  {
   "cell_type": "code",
   "execution_count": 9,
   "id": "0f92b30b",
   "metadata": {},
   "outputs": [
    {
     "name": "stdout",
     "output_type": "stream",
     "text": [
      "Word 總共匯入 177 個檔案\n",
      "Length 總共匯入 177 個檔案\n"
     ]
    }
   ],
   "source": [
    "print(\"Word 總共匯入 \"+ str(data_word.shape[1]- 1)+ \" 個檔案\")\n",
    "print(\"Length 總共匯入 \"+ str(data_len.shape[1]- 1)+ \" 個檔案\")"
   ]
  },
  {
   "cell_type": "code",
   "execution_count": 10,
   "id": "bbdc4c88",
   "metadata": {},
   "outputs": [],
   "source": [
    "data_word[output_file_name].to_excel(raw_PATH_out+ \"Liang_emoji_tf.xlsx\")\n",
    "data_len[output_file_name].to_excel(raw_PATH_out+ \"Liang_emoji_len.xlsx\")"
   ]
  },
  {
   "cell_type": "code",
   "execution_count": null,
   "id": "84e9adee",
   "metadata": {},
   "outputs": [],
   "source": []
  }
 ],
 "metadata": {
  "kernelspec": {
   "display_name": "Python 3 (ipykernel)",
   "language": "python",
   "name": "python3"
  },
  "language_info": {
   "codemirror_mode": {
    "name": "ipython",
    "version": 3
   },
   "file_extension": ".py",
   "mimetype": "text/x-python",
   "name": "python",
   "nbconvert_exporter": "python",
   "pygments_lexer": "ipython3",
   "version": "3.9.7"
  }
 },
 "nbformat": 4,
 "nbformat_minor": 5
}
