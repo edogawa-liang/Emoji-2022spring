{
 "cells": [
  {
   "cell_type": "markdown",
   "id": "8afec03c",
   "metadata": {},
   "source": [
    "# 句向量抽樣"
   ]
  },
  {
   "cell_type": "code",
   "execution_count": 18,
   "id": "158281be",
   "metadata": {},
   "outputs": [],
   "source": [
    "import pandas as pd\n",
    "import numpy as np\n",
    "import matplotlib.pyplot as plt\n",
    "import pickle\n",
    "import time\n",
    "from sklearn.model_selection import train_test_split\n",
    "\n",
    "import warnings\n",
    "warnings.filterwarnings(\"ignore\")\n"
   ]
  },
  {
   "cell_type": "markdown",
   "id": "ed4bffbd",
   "metadata": {},
   "source": [
    "## 1. 匯入資料"
   ]
  },
  {
   "cell_type": "code",
   "execution_count": 19,
   "id": "96d082ef",
   "metadata": {},
   "outputs": [],
   "source": [
    "path_ = r'E:\\專題\\AllData\\training\\final_training' \n",
    "\n",
    "path_test = r'E:\\專題\\AllData\\training\\final_training\\測試集再sampling'\n",
    "path_ori = r'E:\\專題\\AllData\\training\\final_training\\原始資料'\n",
    "path_imb = r'E:\\專題\\AllData\\training\\final_training\\十萬imbal'\n",
    "\n",
    "path_bal = r'E:\\專題\\AllData\\training\\final_training\\較bal'\n",
    "path_pca = r'E:\\專題\\AllData\\training\\final_training\\PCA'\n",
    "path_tse = r'E:\\專題\\AllData\\training\\final_training\\tomek_smote_enn'\n",
    "#path_tsne = r'E:\\專題\\AllData\\training\\final_training\\tsne' "
   ]
  },
  {
   "cell_type": "code",
   "execution_count": 22,
   "id": "21b8c618",
   "metadata": {},
   "outputs": [
    {
     "name": "stdout",
     "output_type": "stream",
     "text": [
      "Wall time: 489 ms\n"
     ]
    }
   ],
   "source": [
    "%%time\n",
    "with open(path_pca+ r\"/X_test_total_pc20.pkl\", \"rb\") as f:\n",
    "    train = pickle.load(f)\n",
    "    \n",
    "with open(path_ori+ r\"/y_test.pkl\", \"rb\") as f:\n",
    "    trainlabel = pickle.load(f)\n",
    "    "
   ]
  },
  {
   "cell_type": "code",
   "execution_count": 14,
   "id": "a23d46c7",
   "metadata": {},
   "outputs": [],
   "source": [
    "with open(path_ori+ r\"/loc_train.pkl\", \"rb\") as f:\n",
    "    trainloc = pickle.load(f)"
   ]
  },
  {
   "cell_type": "code",
   "execution_count": 23,
   "id": "9e239033",
   "metadata": {},
   "outputs": [
    {
     "name": "stdout",
     "output_type": "stream",
     "text": [
      "(82884, 20)\n",
      "(82884,)\n"
     ]
    }
   ],
   "source": [
    "print(np.shape(train))\n",
    "print(np.shape(trainlabel))"
   ]
  },
  {
   "cell_type": "code",
   "execution_count": 21,
   "id": "9fc361bb",
   "metadata": {},
   "outputs": [
    {
     "name": "stdout",
     "output_type": "stream",
     "text": [
      "Wall time: 28.9 ms\n"
     ]
    }
   ],
   "source": [
    "%%time\n",
    "#group = pd.read_excel(path_ + r\"/icon.xlsx\", sheet_name = 0)\n",
    "#prop = pd.read_excel(path_ + r\"/icon.xlsx\", sheet_name = 1)\n",
    "\n",
    "emo = pd.read_excel(path_ + r\"/7_icon49_0429.xlsx\")"
   ]
  },
  {
   "cell_type": "markdown",
   "id": "6346b317",
   "metadata": {},
   "source": [
    "## 匯入「已做好的表格」檢查數量"
   ]
  },
  {
   "cell_type": "code",
   "execution_count": 23,
   "id": "89c38bea",
   "metadata": {},
   "outputs": [
    {
     "data": {
      "text/html": [
       "<div>\n",
       "<style scoped>\n",
       "    .dataframe tbody tr th:only-of-type {\n",
       "        vertical-align: middle;\n",
       "    }\n",
       "\n",
       "    .dataframe tbody tr th {\n",
       "        vertical-align: top;\n",
       "    }\n",
       "\n",
       "    .dataframe thead th {\n",
       "        text-align: right;\n",
       "    }\n",
       "</style>\n",
       "<table border=\"1\" class=\"dataframe\">\n",
       "  <thead>\n",
       "    <tr style=\"text-align: right;\">\n",
       "      <th></th>\n",
       "      <th>Group</th>\n",
       "      <th>歐易</th>\n",
       "      <th>貝爾</th>\n",
       "      <th>柯南</th>\n",
       "      <th>大福</th>\n",
       "      <th>貝卡</th>\n",
       "      <th>Peng</th>\n",
       "      <th>Total</th>\n",
       "      <th>Prop</th>\n",
       "    </tr>\n",
       "  </thead>\n",
       "  <tbody>\n",
       "    <tr>\n",
       "      <th>0</th>\n",
       "      <td>2</td>\n",
       "      <td>12804</td>\n",
       "      <td>19242</td>\n",
       "      <td>16704</td>\n",
       "      <td>27468</td>\n",
       "      <td>1455</td>\n",
       "      <td>29991</td>\n",
       "      <td>107664</td>\n",
       "      <td>0.139997</td>\n",
       "    </tr>\n",
       "    <tr>\n",
       "      <th>1</th>\n",
       "      <td>1</td>\n",
       "      <td>12344</td>\n",
       "      <td>18589</td>\n",
       "      <td>13007</td>\n",
       "      <td>25806</td>\n",
       "      <td>1144</td>\n",
       "      <td>17022</td>\n",
       "      <td>87912</td>\n",
       "      <td>0.114313</td>\n",
       "    </tr>\n",
       "    <tr>\n",
       "      <th>2</th>\n",
       "      <td>4</td>\n",
       "      <td>8174</td>\n",
       "      <td>11728</td>\n",
       "      <td>16061</td>\n",
       "      <td>15821</td>\n",
       "      <td>1401</td>\n",
       "      <td>14920</td>\n",
       "      <td>68105</td>\n",
       "      <td>0.088558</td>\n",
       "    </tr>\n",
       "    <tr>\n",
       "      <th>3</th>\n",
       "      <td>5</td>\n",
       "      <td>8900</td>\n",
       "      <td>10703</td>\n",
       "      <td>12078</td>\n",
       "      <td>16951</td>\n",
       "      <td>1035</td>\n",
       "      <td>14433</td>\n",
       "      <td>64100</td>\n",
       "      <td>0.083350</td>\n",
       "    </tr>\n",
       "    <tr>\n",
       "      <th>4</th>\n",
       "      <td>3</td>\n",
       "      <td>7431</td>\n",
       "      <td>10458</td>\n",
       "      <td>10383</td>\n",
       "      <td>20824</td>\n",
       "      <td>1004</td>\n",
       "      <td>12031</td>\n",
       "      <td>62131</td>\n",
       "      <td>0.080790</td>\n",
       "    </tr>\n",
       "  </tbody>\n",
       "</table>\n",
       "</div>"
      ],
      "text/plain": [
       "   Group     歐易     貝爾     柯南     大福    貝卡   Peng   Total      Prop\n",
       "0      2  12804  19242  16704  27468  1455  29991  107664  0.139997\n",
       "1      1  12344  18589  13007  25806  1144  17022   87912  0.114313\n",
       "2      4   8174  11728  16061  15821  1401  14920   68105  0.088558\n",
       "3      5   8900  10703  12078  16951  1035  14433   64100  0.083350\n",
       "4      3   7431  10458  10383  20824  1004  12031   62131  0.080790"
      ]
     },
     "execution_count": 23,
     "metadata": {},
     "output_type": "execute_result"
    }
   ],
   "source": [
    "emo.head()"
   ]
  },
  {
   "cell_type": "markdown",
   "id": "207cc9a0",
   "metadata": {},
   "source": [
    "## 2. 40 group 各 random 取 600 筆"
   ]
  },
  {
   "cell_type": "markdown",
   "id": "1583d73c",
   "metadata": {},
   "source": [
    "#### 匯出每個 group 的位置各是那些、sampling 抽到的位置\n",
    "也可抽 39 個 group，但就是第 40 個 group 不會被抽到"
   ]
  },
  {
   "cell_type": "code",
   "execution_count": 24,
   "id": "65328c4b",
   "metadata": {},
   "outputs": [],
   "source": [
    "def sampling(train, trainlabel, group, sampling):\n",
    "    \n",
    "    alldata = list(range(np.shape(train)[0]))  #資料總共幾筆\n",
    "   \n",
    "    # 表情 group 對應的位置\n",
    "    allemo = []\n",
    "    for j in range(1, group + 1):\n",
    "        j_emo = [i for i in alldata if trainlabel[i]== j]\n",
    "        allemo.append(j_emo)\n",
    "        # allemo:[[group 1 表情符號位置], [group 2 表情符號位置], [], ...[group 40 表情符號位置]]\n",
    "    \n",
    "    \n",
    "    #抽樣\n",
    "    random_want = []\n",
    "    for j in range(group):\n",
    "        gg = np.random.choice(allemo[j], sampling, replace = False).tolist() #每個組隨機抽到的表情位置\n",
    "        random_want = random_want + gg\n",
    "        # random_want: [group 1 抽樣的位置, group 2 抽樣的位置 ...]\n",
    "        # 匯出按照 group排序，label可直接上為 111..11222..22333...33 .....\n",
    "        \n",
    "    return allemo, random_want"
   ]
  },
  {
   "cell_type": "code",
   "execution_count": 25,
   "id": "91d461dc",
   "metadata": {},
   "outputs": [
    {
     "name": "stdout",
     "output_type": "stream",
     "text": [
      "[11096, 9644, 7185, 6533, 5868, 4416, 4582, 3340, 3252, 2912, 2531, 2587, 2301, 1572, 1817, 1193, 1112, 1179, 1065, 988]\n"
     ]
    }
   ],
   "source": [
    "print([trainlabel.count(i) for i in list(range(1, 20+ 1))])"
   ]
  },
  {
   "cell_type": "markdown",
   "id": "40c9982b",
   "metadata": {},
   "source": [
    "<hr>"
   ]
  },
  {
   "cell_type": "code",
   "execution_count": 10,
   "id": "ad01cbcc",
   "metadata": {},
   "outputs": [
    {
     "name": "stdout",
     "output_type": "stream",
     "text": [
      "(100000, 20)\n",
      "100000\n",
      "Wall time: 747 ms\n"
     ]
    }
   ],
   "source": [
    "%%time\n",
    "# 3人取前40類900筆\n",
    "result = sampling(train, trainlabel, 20, 5000)\n",
    "\n",
    "random_sample = result[1]   #抽樣的位置\n",
    "data = train[random_sample, ]\n",
    "data = np.array(data)\n",
    "print(data.shape)\n",
    "\n",
    "label = np.repeat(list(range(1, 20+1)), 5000)\n",
    "print(len(label))"
   ]
  },
  {
   "cell_type": "markdown",
   "id": "05872699",
   "metadata": {},
   "source": [
    "### 匯出抽樣資料"
   ]
  },
  {
   "cell_type": "code",
   "execution_count": 13,
   "id": "ed023f0c",
   "metadata": {},
   "outputs": [
    {
     "name": "stdout",
     "output_type": "stream",
     "text": [
      "Wall time: 3.24 s\n"
     ]
    }
   ],
   "source": [
    "%%time\n",
    "with open(path_bal + '/X_train_bal10.pkl'','wb') as f:\n",
    "    pickle.dump(data, f)\n",
    "\n",
    "with open(path_bal + '/y_train_bal10.pkl','wb') as f:\n",
    "    pickle.dump(label, f)\n",
    "    \n",
    "#rand_emo = pd.DataFrame(data, index=False)\n",
    "#rand_emo.to_excel(path_go + r'\\all_emo600.xlsx')"
   ]
  },
  {
   "cell_type": "code",
   "execution_count": 17,
   "id": "dd197e95",
   "metadata": {},
   "outputs": [],
   "source": [
    "with open(path_ + '/loc_train_bal10.pkl','wb') as f:\n",
    "    pickle.dump(trainid, f)"
   ]
  }
 ],
 "metadata": {
  "kernelspec": {
   "display_name": "Python 3 (ipykernel)",
   "language": "python",
   "name": "python3"
  },
  "language_info": {
   "codemirror_mode": {
    "name": "ipython",
    "version": 3
   },
   "file_extension": ".py",
   "mimetype": "text/x-python",
   "name": "python",
   "nbconvert_exporter": "python",
   "pygments_lexer": "ipython3",
   "version": "3.9.7"
  }
 },
 "nbformat": 4,
 "nbformat_minor": 5
}
