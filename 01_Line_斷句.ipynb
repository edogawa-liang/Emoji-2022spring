{
 "cells": [
  {
   "cell_type": "code",
   "execution_count": 2,
   "metadata": {},
   "outputs": [
    {
     "name": "stdout",
     "output_type": "stream",
     "text": [
      "Collecting emoji\n",
      "  Downloading emoji-1.6.3.tar.gz (174 kB)\n",
      "Building wheels for collected packages: emoji\n",
      "  Building wheel for emoji (setup.py): started\n",
      "  Building wheel for emoji (setup.py): finished with status 'done'\n",
      "  Created wheel for emoji: filename=emoji-1.6.3-py3-none-any.whl size=170300 sha256=81ea3d860c73dd0e135b20cac07150ab0deb2b7c2901c0d5ae09c682f1473cf2\n",
      "  Stored in directory: c:\\users\\e2414\\appdata\\local\\pip\\cache\\wheels\\e5\\c7\\b3\\b62b7809b5ea6d22241a713d9cc05741d7edaec674b9d61cb7\n",
      "Successfully built emoji\n",
      "Installing collected packages: emoji\n",
      "Successfully installed emoji-1.6.3\n"
     ]
    }
   ],
   "source": [
    "#! pip install emoji"
   ]
  },
  {
   "cell_type": "code",
   "execution_count": 23,
   "metadata": {},
   "outputs": [],
   "source": [
    "import pandas as pd\n",
    "import numpy as np\n",
    "import re\n",
    "import emoji\n",
    "\n",
    "df = pd.read_table(\"[LINE] 與謝沛璇 Joyce的聊天.txt\")# 檔名自己改\n",
    "id = 298 # 一樣自己改\n",
    "n = np.shape(df)[0]\n",
    "content = []\n",
    "for i in range(n):\n",
    "   content.append(','.join(re.findall(r'[\\U00010000-\\U0010ffff]|[\\u4e00-\\u9fa5]+', str(df['reply'][i]))))\n",
    "output = pd.DataFrame(content, columns=['content'])\n",
    "\n",
    "PATH='C:/Users/e2414/OneDrive/桌面/專題/AllData/line_crawler/'\n",
    "output.to_excel(PATH+ f\"line{id}.xlsx\", index = True)"
   ]
  }
 ],
 "metadata": {
  "interpreter": {
   "hash": "0d008810b9c8467bcb3ca39aa2180e5b81b3a9acb136aab30d47954377cc5120"
  },
  "kernelspec": {
   "display_name": "Python 3 (ipykernel)",
   "language": "python",
   "name": "python3"
  },
  "language_info": {
   "codemirror_mode": {
    "name": "ipython",
    "version": 3
   },
   "file_extension": ".py",
   "mimetype": "text/x-python",
   "name": "python",
   "nbconvert_exporter": "python",
   "pygments_lexer": "ipython3",
   "version": "3.9.7"
  }
 },
 "nbformat": 4,
 "nbformat_minor": 2
}
