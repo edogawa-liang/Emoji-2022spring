{
 "cells": [
  {
   "cell_type": "markdown",
   "id": "79d3e09c",
   "metadata": {},
   "source": [
    "# pca"
   ]
  },
  {
   "cell_type": "code",
   "execution_count": 1,
   "id": "f13af1c7",
   "metadata": {},
   "outputs": [],
   "source": [
    "import pandas as pd\n",
    "import numpy as np\n",
    "import time\n",
    "import matplotlib.pyplot as plt\n",
    "import pickle\n",
    "\n",
    "\n",
    "from sklearn.decomposition import PCA\n",
    "\n",
    "import warnings\n",
    "warnings.filterwarnings(\"ignore\")"
   ]
  },
  {
   "cell_type": "code",
   "execution_count": 2,
   "id": "c46e9c09",
   "metadata": {},
   "outputs": [],
   "source": [
    "#path_ = r'C:\\Users\\e2414\\OneDrive\\桌面\\專題\\AllData\\training\\emoji_sampling'  \n",
    "#path_ = r'C:\\Users\\e2414\\OneDrive\\桌面\\專題\\AllData\\training\\20group'   \n",
    "\n",
    "path_ = r'E:\\專題\\AllData\\training\\final_training'\n",
    "path_model = r'E:\\專題\\AllData\\training\\training\\clf_model' # pca模型匯到哪裡去"
   ]
  },
  {
   "cell_type": "code",
   "execution_count": 3,
   "id": "2e84d546",
   "metadata": {},
   "outputs": [
    {
     "name": "stdout",
     "output_type": "stream",
     "text": [
      "Wall time: 1min 29s\n"
     ]
    },
    {
     "data": {
      "text/plain": [
       "(745961, 300)"
      ]
     },
     "execution_count": 3,
     "metadata": {},
     "output_type": "execute_result"
    }
   ],
   "source": [
    "%%time\n",
    "#data = pd.read_excel(path_ + r\"\\all_emo600.xlsx\")\n",
    "#data = data.drop(\"Unnamed: 0\", axis = 1)\n",
    "\n",
    "data = pd.read_pickle(path_+ '/X_train.pkl')\n",
    "data = np.array(data)\n",
    "np.shape(data)"
   ]
  },
  {
   "cell_type": "markdown",
   "id": "de4ad806",
   "metadata": {},
   "source": [
    "### 開始\n",
    "https://kknews.cc/zh-tw/code/kvzpj5b.html"
   ]
  },
  {
   "cell_type": "code",
   "execution_count": 4,
   "id": "4791e267",
   "metadata": {},
   "outputs": [
    {
     "name": "stdout",
     "output_type": "stream",
     "text": [
      "Wall time: 37.7 s\n"
     ]
    },
    {
     "data": {
      "text/html": [
       "<style>#sk-container-id-1 {color: black;background-color: white;}#sk-container-id-1 pre{padding: 0;}#sk-container-id-1 div.sk-toggleable {background-color: white;}#sk-container-id-1 label.sk-toggleable__label {cursor: pointer;display: block;width: 100%;margin-bottom: 0;padding: 0.3em;box-sizing: border-box;text-align: center;}#sk-container-id-1 label.sk-toggleable__label-arrow:before {content: \"▸\";float: left;margin-right: 0.25em;color: #696969;}#sk-container-id-1 label.sk-toggleable__label-arrow:hover:before {color: black;}#sk-container-id-1 div.sk-estimator:hover label.sk-toggleable__label-arrow:before {color: black;}#sk-container-id-1 div.sk-toggleable__content {max-height: 0;max-width: 0;overflow: hidden;text-align: left;background-color: #f0f8ff;}#sk-container-id-1 div.sk-toggleable__content pre {margin: 0.2em;color: black;border-radius: 0.25em;background-color: #f0f8ff;}#sk-container-id-1 input.sk-toggleable__control:checked~div.sk-toggleable__content {max-height: 200px;max-width: 100%;overflow: auto;}#sk-container-id-1 input.sk-toggleable__control:checked~label.sk-toggleable__label-arrow:before {content: \"▾\";}#sk-container-id-1 div.sk-estimator input.sk-toggleable__control:checked~label.sk-toggleable__label {background-color: #d4ebff;}#sk-container-id-1 div.sk-label input.sk-toggleable__control:checked~label.sk-toggleable__label {background-color: #d4ebff;}#sk-container-id-1 input.sk-hidden--visually {border: 0;clip: rect(1px 1px 1px 1px);clip: rect(1px, 1px, 1px, 1px);height: 1px;margin: -1px;overflow: hidden;padding: 0;position: absolute;width: 1px;}#sk-container-id-1 div.sk-estimator {font-family: monospace;background-color: #f0f8ff;border: 1px dotted black;border-radius: 0.25em;box-sizing: border-box;margin-bottom: 0.5em;}#sk-container-id-1 div.sk-estimator:hover {background-color: #d4ebff;}#sk-container-id-1 div.sk-parallel-item::after {content: \"\";width: 100%;border-bottom: 1px solid gray;flex-grow: 1;}#sk-container-id-1 div.sk-label:hover label.sk-toggleable__label {background-color: #d4ebff;}#sk-container-id-1 div.sk-serial::before {content: \"\";position: absolute;border-left: 1px solid gray;box-sizing: border-box;top: 0;bottom: 0;left: 50%;z-index: 0;}#sk-container-id-1 div.sk-serial {display: flex;flex-direction: column;align-items: center;background-color: white;padding-right: 0.2em;padding-left: 0.2em;position: relative;}#sk-container-id-1 div.sk-item {position: relative;z-index: 1;}#sk-container-id-1 div.sk-parallel {display: flex;align-items: stretch;justify-content: center;background-color: white;position: relative;}#sk-container-id-1 div.sk-item::before, #sk-container-id-1 div.sk-parallel-item::before {content: \"\";position: absolute;border-left: 1px solid gray;box-sizing: border-box;top: 0;bottom: 0;left: 50%;z-index: -1;}#sk-container-id-1 div.sk-parallel-item {display: flex;flex-direction: column;z-index: 1;position: relative;background-color: white;}#sk-container-id-1 div.sk-parallel-item:first-child::after {align-self: flex-end;width: 50%;}#sk-container-id-1 div.sk-parallel-item:last-child::after {align-self: flex-start;width: 50%;}#sk-container-id-1 div.sk-parallel-item:only-child::after {width: 0;}#sk-container-id-1 div.sk-dashed-wrapped {border: 1px dashed gray;margin: 0 0.4em 0.5em 0.4em;box-sizing: border-box;padding-bottom: 0.4em;background-color: white;}#sk-container-id-1 div.sk-label label {font-family: monospace;font-weight: bold;display: inline-block;line-height: 1.2em;}#sk-container-id-1 div.sk-label-container {text-align: center;}#sk-container-id-1 div.sk-container {/* jupyter's `normalize.less` sets `[hidden] { display: none; }` but bootstrap.min.css set `[hidden] { display: none !important; }` so we also need the `!important` here to be able to override the default hidden behavior on the sphinx rendered scikit-learn.org. See: https://github.com/scikit-learn/scikit-learn/issues/21755 */display: inline-block !important;position: relative;}#sk-container-id-1 div.sk-text-repr-fallback {display: none;}</style><div id=\"sk-container-id-1\" class=\"sk-top-container\"><div class=\"sk-text-repr-fallback\"><pre>PCA(n_components=100)</pre><b>In a Jupyter environment, please rerun this cell to show the HTML representation or trust the notebook. <br />On GitHub, the HTML representation is unable to render, please try loading this page with nbviewer.org.</b></div><div class=\"sk-container\" hidden><div class=\"sk-item\"><div class=\"sk-estimator sk-toggleable\"><input class=\"sk-toggleable__control sk-hidden--visually\" id=\"sk-estimator-id-1\" type=\"checkbox\" checked><label for=\"sk-estimator-id-1\" class=\"sk-toggleable__label sk-toggleable__label-arrow\">PCA</label><div class=\"sk-toggleable__content\"><pre>PCA(n_components=100)</pre></div></div></div></div></div>"
      ],
      "text/plain": [
       "PCA(n_components=100)"
      ]
     },
     "execution_count": 4,
     "metadata": {},
     "output_type": "execute_result"
    }
   ],
   "source": [
    "%%time\n",
    "pca = PCA(n_components=100)\n",
    "pca.fit(data)"
   ]
  },
  {
   "cell_type": "code",
   "execution_count": 5,
   "id": "a32269e1",
   "metadata": {},
   "outputs": [],
   "source": [
    "#sum(pca.explained_variance_ratio_)\n",
    "\n",
    "var = pca.explained_variance_  #eigenvalue\n",
    "var_ratio = pca.explained_variance_ratio_   #這個主成分解釋了多少變異\n",
    "#print(var)\n",
    "#print(var_ratio)\n",
    "\n",
    "cs_var = np.cumsum(var_ratio)"
   ]
  },
  {
   "cell_type": "code",
   "execution_count": 6,
   "id": "ed3aea46",
   "metadata": {},
   "outputs": [
    {
     "data": {
      "text/plain": [
       "Text(0, 0.5, 'eigenvalue')"
      ]
     },
     "execution_count": 6,
     "metadata": {},
     "output_type": "execute_result"
    },
    {
     "data": {
      "image/png": "[encoded data removed]",
      "text/plain": [
       "<Figure size 432x288 with 1 Axes>"
      ]
     },
     "metadata": {
      "needs_background": "light"
     },
     "output_type": "display_data"
    }
   ],
   "source": [
    "plt.plot(np.arange(len(var)) , var)\n",
    "plt.scatter(np.arange(len(var)) , var, s = 10)   \n",
    "plt.grid(True)\n",
    "\n",
    "plt.title('PCA', fontsize=15)\n",
    "plt.xlabel(\"PC\", fontsize= 13)\n",
    "plt.ylabel(\"eigenvalue\", fontsize= 13)"
   ]
  },
  {
   "cell_type": "markdown",
   "id": "e592f7fb",
   "metadata": {},
   "source": [
    "#### 取幾個主成分 \n",
    "可解釋 xx 的變異 "
   ]
  },
  {
   "cell_type": "code",
   "execution_count": 18,
   "id": "c9e756ff",
   "metadata": {},
   "outputs": [
    {
     "name": "stdout",
     "output_type": "stream",
     "text": [
      "0.29020932574443903\n",
      "0.3367876338050567\n",
      "0.3899976346416448\n",
      "0.5004422176907527\n",
      "0.6093826077257006\n",
      "0.674376123328531\n",
      "0.7624438876366031\n"
     ]
    }
   ],
   "source": [
    "print(cs_var[5-1])\n",
    "print(cs_var[7-1])\n",
    "print(cs_var[10-1])\n",
    "print(cs_var[20-1])\n",
    "print(cs_var[40-1])\n",
    "print(cs_var[60-1])\n",
    "print(cs_var[100-1])"
   ]
  },
  {
   "cell_type": "markdown",
   "id": "05517229",
   "metadata": {},
   "source": [
    "#### 重新做一次 同時返回降維後的數據"
   ]
  },
  {
   "cell_type": "code",
   "execution_count": 17,
   "id": "967adf94",
   "metadata": {},
   "outputs": [
    {
     "data": {
      "text/plain": [
       "(745961, 300)"
      ]
     },
     "execution_count": 17,
     "metadata": {},
     "output_type": "execute_result"
    }
   ],
   "source": [
    "n = 20\n",
    "np.shape(data)"
   ]
  },
  {
   "cell_type": "code",
   "execution_count": 10,
   "id": "e0163724",
   "metadata": {},
   "outputs": [],
   "source": [
    "pca = PCA(n_components=n)\n",
    "newdata = pca.fit_transform(data)"
   ]
  },
  {
   "cell_type": "code",
   "execution_count": 19,
   "id": "3d1a0dd8",
   "metadata": {},
   "outputs": [
    {
     "data": {
      "text/plain": [
       "(745961, 20)"
      ]
     },
     "execution_count": 19,
     "metadata": {},
     "output_type": "execute_result"
    }
   ],
   "source": [
    "newdata = pd.DataFrame(newdata)\n",
    "np.shape(newdata)"
   ]
  },
  {
   "cell_type": "code",
   "execution_count": 12,
   "id": "13649657",
   "metadata": {},
   "outputs": [],
   "source": [
    "path_pca = r'E:\\專題\\AllData\\training\\final_training\\PCA'"
   ]
  },
  {
   "cell_type": "code",
   "execution_count": 13,
   "id": "72906a42",
   "metadata": {},
   "outputs": [],
   "source": [
    "newdata.to_pickle(path_pca + f'\\\\X_train_total_pc{n}.pkl')"
   ]
  },
  {
   "cell_type": "markdown",
   "id": "0cebd49f",
   "metadata": {},
   "source": [
    "### test 要另外根據 train 再轉換成100維"
   ]
  },
  {
   "cell_type": "code",
   "execution_count": 20,
   "id": "ef3ebfbb",
   "metadata": {},
   "outputs": [
    {
     "data": {
      "text/plain": [
       "(10000, 300)"
      ]
     },
     "execution_count": 20,
     "metadata": {},
     "output_type": "execute_result"
    }
   ],
   "source": [
    "##\n",
    "testdata = pd.read_pickle(path_+ '\\X_test.pkl')\n",
    "testdata.shape"
   ]
  },
  {
   "cell_type": "code",
   "execution_count": 21,
   "id": "e90e7a9f",
   "metadata": {},
   "outputs": [],
   "source": [
    "test_pca = pca.transform(testdata)\n",
    "test_pca.shape\n",
    "test_pca = pd.DataFrame(test_pca)\n",
    "test_pca.to_pickle(path_pca + f'\\\\X_test_sampling_pc{n}.pkl')"
   ]
  },
  {
   "cell_type": "code",
   "execution_count": 22,
   "id": "138fe964",
   "metadata": {},
   "outputs": [
    {
     "data": {
      "text/plain": [
       "(10000, 20)"
      ]
     },
     "execution_count": 22,
     "metadata": {},
     "output_type": "execute_result"
    }
   ],
   "source": [
    "test_pca.shape"
   ]
  },
  {
   "cell_type": "markdown",
   "id": "a0d61179",
   "metadata": {},
   "source": [
    "<hr>"
   ]
  },
  {
   "cell_type": "markdown",
   "id": "eab8a90a",
   "metadata": {},
   "source": [
    "### 匯出訓練好的 pca model"
   ]
  },
  {
   "cell_type": "code",
   "execution_count": 78,
   "id": "15eb5f44",
   "metadata": {},
   "outputs": [
    {
     "name": "stdout",
     "output_type": "stream",
     "text": [
      "成功匯出 pca20.pkl \n"
     ]
    }
   ],
   "source": [
    "with open(path_model+ f'\\\\pca{n}.pkl','wb') as f:\n",
    "    pickle.dump(pca, f)\n",
    "    \n",
    "print(f\"成功匯出 pca{n}.pkl \")  "
   ]
  },
  {
   "cell_type": "markdown",
   "id": "dcc1f319",
   "metadata": {},
   "source": [
    "### 當模型訓練好後，對於新輸入的數據，都可以用 transform 方法來降維\n"
   ]
  },
  {
   "cell_type": "code",
   "execution_count": 80,
   "id": "e50ff6ad",
   "metadata": {},
   "outputs": [],
   "source": [
    "with open(path_model+ r\"\\pca20.pkl\", \"rb\") as f:\n",
    "    pca20 = pickle.load(f)"
   ]
  },
  {
   "cell_type": "code",
   "execution_count": null,
   "id": "c8cbb603",
   "metadata": {},
   "outputs": [],
   "source": [
    "pca20.tranform(X)"
   ]
  }
 ],
 "metadata": {
  "kernelspec": {
   "display_name": "Python 3 (ipykernel)",
   "language": "python",
   "name": "python3"
  },
  "language_info": {
   "codemirror_mode": {
    "name": "ipython",
    "version": 3
   },
   "file_extension": ".py",
   "mimetype": "text/x-python",
   "name": "python",
   "nbconvert_exporter": "python",
   "pygments_lexer": "ipython3",
   "version": "3.9.7"
  }
 },
 "nbformat": 4,
 "nbformat_minor": 5
}
