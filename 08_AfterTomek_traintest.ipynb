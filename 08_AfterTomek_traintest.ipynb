{
 "cells": [
  {
   "cell_type": "markdown",
   "id": "3d147f4a",
   "metadata": {},
   "source": [
    "# 目標\n",
    "> ### 1. tomek link 後的資料 (767695 筆)，將前 20 高的 group 選出來\n",
    "> ### 2. 並將它切成 train 跟 test，從此固定 test !!"
   ]
  },
  {
   "cell_type": "code",
   "execution_count": 1,
   "id": "86e14d62",
   "metadata": {},
   "outputs": [],
   "source": [
    "import pandas as pd\n",
    "import numpy as np\n",
    "import matplotlib.pyplot as plt\n",
    "import pickle\n",
    "import time, math\n",
    "\n",
    "from sklearn.model_selection import train_test_split\n",
    "\n",
    "import warnings\n",
    "warnings.filterwarnings(\"ignore\")"
   ]
  },
  {
   "cell_type": "markdown",
   "id": "61ba1405",
   "metadata": {},
   "source": [
    "## 匯入資料 (使用做過 tomek link 後的資料)"
   ]
  },
  {
   "cell_type": "code",
   "execution_count": 2,
   "id": "4a374c0f",
   "metadata": {},
   "outputs": [],
   "source": [
    "path_ = r'C:\\Users\\e2414\\OneDrive\\桌面\\專題\\AllData\\training'  \n",
    "path_go = r'C:\\Users\\e2414\\OneDrive\\桌面\\專題\\AllData\\training\\20group'  "
   ]
  },
  {
   "cell_type": "code",
   "execution_count": 3,
   "id": "bc6d85ea",
   "metadata": {},
   "outputs": [
    {
     "name": "stdout",
     "output_type": "stream",
     "text": [
      "(767695, 300)\n",
      "767695\n",
      "Wall time: 2.52 s\n"
     ]
    }
   ],
   "source": [
    "%%time\n",
    "with open(path_+ r\"/tomek_train.pkl\", \"rb\") as f:\n",
    "    train = pickle.load(f)\n",
    "    \n",
    "with open(path_+ r\"/tomek_trainlabel.pkl\", \"rb\") as f:\n",
    "    trainlabel = pickle.load(f)\n",
    "    \n",
    "print(train.shape)\n",
    "print(len(trainlabel))"
   ]
  },
  {
   "cell_type": "markdown",
   "id": "70d6f672",
   "metadata": {},
   "source": [
    "## 原資料各個表情 group 計數"
   ]
  },
  {
   "cell_type": "code",
   "execution_count": 5,
   "id": "c1e9639d",
   "metadata": {},
   "outputs": [],
   "source": [
    "label = list(range(1, 40+1))"
   ]
  },
  {
   "cell_type": "code",
   "execution_count": 6,
   "id": "f9fcc5f3",
   "metadata": {},
   "outputs": [
    {
     "name": "stdout",
     "output_type": "stream",
     "text": [
      "[104113, 89587, 67211, 58707, 58258, 39529, 43140, 30902, 29995, 27503, 23541, 23846, 21360, 14193, 16383, 10691, 10652, 10946, 9156, 8636, 8430, 7448, 7179, 5664, 5255, 4482, 3988, 3805, 3608, 3580, 2463, 2293, 2037, 1604, 1505, 1423, 1228, 1234, 1120, 1000]\n",
      "共 767695 筆資料\n",
      "Wall time: 327 ms\n"
     ]
    }
   ],
   "source": [
    "%%time\n",
    "original_group = [trainlabel.count(i) for i in label]\n",
    "print(original_group)\n",
    "print(f'共 {sum(original_group)} 筆資料')"
   ]
  },
  {
   "cell_type": "code",
   "execution_count": 7,
   "id": "10509952",
   "metadata": {},
   "outputs": [
    {
     "name": "stdout",
     "output_type": "stream",
     "text": [
      "Wall time: 303 ms\n"
     ]
    },
    {
     "data": {
      "image/png": "[encoded data removed]",
      "text/plain": [
       "<Figure size 432x288 with 1 Axes>"
      ]
     },
     "metadata": {
      "needs_background": "light"
     },
     "output_type": "display_data"
    }
   ],
   "source": [
    "%%time\n",
    "#fig= plt.figure(figsize= [16, 12])\n",
    "plt.bar(label, original_group, color = 'pink')\n",
    "plt.axhline(y=np.mean(original_group), c=\"gray\", ls=\"--\", lw=1.5, label = 'all average')\n",
    "xlabel = [1]+ list(range(5, 40+1, 5))\n",
    "plt.xticks(xlabel) \n",
    "plt.title(f'after Tomek , Total = {sum(original_group)}', size = 14)\n",
    "plt.xlabel('emoji group', size = 12)\n",
    "plt.ylabel('count', size = 12)\n",
    "plt.legend()\n",
    "plt.savefig(path_+ '/tomek.jpg')"
   ]
  },
  {
   "cell_type": "markdown",
   "id": "da9b4d3c",
   "metadata": {},
   "source": [
    "## 前 20 group 的表情資料"
   ]
  },
  {
   "cell_type": "code",
   "execution_count": 8,
   "id": "940683cc",
   "metadata": {},
   "outputs": [
    {
     "name": "stdout",
     "output_type": "stream",
     "text": [
      "[1, 2, 3, 4, 5, 6, 7, 8, 9, 10, 11, 12, 13, 14, 15, 16, 17, 18, 19, 20]\n",
      "34917.45\n",
      "[104113, 89587, 67211, 58707, 58258, 39529, 43140, 30902, 29995, 27503, 23541, 23846, 21360, 14193, 16383, 10691, 10652, 10946, 9156, 8636]\n"
     ]
    }
   ],
   "source": [
    "newlabel = list(range(1, 20+1))\n",
    "mean20 = np.mean(original_group[:20])\n",
    "group20 = original_group[:20]\n",
    "print(newlabel)\n",
    "print(mean20)\n",
    "print(group20)"
   ]
  },
  {
   "cell_type": "markdown",
   "id": "e89494af",
   "metadata": {},
   "source": [
    "### 取出前 20 group 的 training 和 label，命名為 newtrain、newtrainlabel"
   ]
  },
  {
   "cell_type": "code",
   "execution_count": 9,
   "id": "21b19400",
   "metadata": {},
   "outputs": [
    {
     "name": "stdout",
     "output_type": "stream",
     "text": [
      "(698349, 300)\n",
      "698349\n",
      "Wall time: 863 ms\n"
     ]
    }
   ],
   "source": [
    "%%time\n",
    "newgroup_loc = [i for i,v in list(enumerate(trainlabel)) if v in newlabel]\n",
    "\n",
    "newtrain = train[newgroup_loc, ]\n",
    "newtrainlabel = [trainlabel[i] for i in newgroup_loc]\n",
    "\n",
    "print(newtrain.shape)\n",
    "print(len(newtrainlabel))"
   ]
  },
  {
   "cell_type": "markdown",
   "id": "5da46d69",
   "metadata": {},
   "source": [
    "## 從此都使用 698349 筆資料 !"
   ]
  },
  {
   "cell_type": "markdown",
   "id": "c602eccc",
   "metadata": {},
   "source": [
    "對照用，確定沒問題"
   ]
  },
  {
   "cell_type": "code",
   "execution_count": 10,
   "id": "474085d3",
   "metadata": {},
   "outputs": [
    {
     "name": "stdout",
     "output_type": "stream",
     "text": [
      "Wall time: 0 ns\n"
     ]
    }
   ],
   "source": [
    "%%time\n",
    "#ori_20group = [newtrainlabel.count(i) for i in newlabel]\n",
    "#print(ori_20group)\n",
    "#print(f'共 {sum(ori_20group)} 筆資料')"
   ]
  },
  {
   "cell_type": "code",
   "execution_count": 11,
   "id": "a13ccc48",
   "metadata": {},
   "outputs": [
    {
     "name": "stdout",
     "output_type": "stream",
     "text": [
      "Wall time: 108 ms\n"
     ]
    },
    {
     "data": {
      "image/png": "[encoded data removed]",
      "text/plain": [
       "<Figure size 432x288 with 1 Axes>"
      ]
     },
     "metadata": {
      "needs_background": "light"
     },
     "output_type": "display_data"
    }
   ],
   "source": [
    "%%time\n",
    "#fig= plt.figure(figsize= [16, 12])\n",
    "plt.bar(newlabel, group20, color = 'pink')\n",
    "plt.axhline(y=mean20, c=\"gray\", ls=\"--\", lw=1.5, label = 'top 20 average')\n",
    "\n",
    "xlabel = [1]+ list(range(5, 20+1, 5))\n",
    "plt.xticks(xlabel) \n",
    "plt.title(f'Top 20 after Tomek Links, Total = {sum(group20)}', size = 14)\n",
    "plt.xlabel('emoji group', size = 12)\n",
    "plt.ylabel('count', size = 12)\n",
    "plt.legend()\n",
    "plt.savefig(path_go+ r'/top20_beforesplit.jpg')"
   ]
  },
  {
   "cell_type": "markdown",
   "id": "1f2fa008",
   "metadata": {},
   "source": [
    "## 將前 20 group 匯出"
   ]
  },
  {
   "cell_type": "code",
   "execution_count": 12,
   "id": "85a98011",
   "metadata": {},
   "outputs": [
    {
     "name": "stdout",
     "output_type": "stream",
     "text": [
      "Wall time: 45.3 s\n"
     ]
    }
   ],
   "source": [
    "%%time\n",
    "with open(path_go+ '/20total.pkl','wb') as f:\n",
    "    pickle.dump(newtrain, f)\n",
    "\n",
    "with open(path_go+ '/20total_label.pkl','wb') as f:\n",
    "    pickle.dump(newtrainlabel, f)"
   ]
  },
  {
   "cell_type": "code",
   "execution_count": null,
   "id": "aeb14810",
   "metadata": {},
   "outputs": [],
   "source": [
    "\n"
   ]
  },
  {
   "cell_type": "markdown",
   "id": "5cbd26b4",
   "metadata": {},
   "source": [
    "<hr>"
   ]
  },
  {
   "cell_type": "markdown",
   "id": "af60c6aa",
   "metadata": {},
   "source": [
    "## 將資料切成 train 與 test"
   ]
  },
  {
   "cell_type": "code",
   "execution_count": 20,
   "id": "d2a34c55",
   "metadata": {},
   "outputs": [
    {
     "name": "stdout",
     "output_type": "stream",
     "text": [
      "(628514, 300)\n",
      "(69835, 300)\n",
      "628514\n",
      "69835\n",
      "Wall time: 19.6 s\n"
     ]
    }
   ],
   "source": [
    "%%time\n",
    "X_train, X_test, y_train, y_test = train_test_split(newtrain, newtrainlabel, test_size=0.1, random_state=1)\n",
    "\n",
    "print(X_train.shape)\n",
    "print(X_test.shape)\n",
    "print(len(y_train))\n",
    "print(len(y_test))"
   ]
  },
  {
   "cell_type": "code",
   "execution_count": 21,
   "id": "25ce0752",
   "metadata": {},
   "outputs": [
    {
     "name": "stdout",
     "output_type": "stream",
     "text": [
      "[93632, 80919, 60450, 52893, 52371, 35655, 38727, 27715, 27017, 24801, 21164, 21436, 19182, 12807, 14768, 9589, 9608, 9817, 8211, 7752]\n",
      "[10481, 8668, 6761, 5814, 5887, 3874, 4413, 3187, 2978, 2702, 2377, 2410, 2178, 1386, 1615, 1102, 1044, 1129, 945, 884]\n"
     ]
    }
   ],
   "source": [
    "train_count = [y_train.count(i) for i in newlabel]\n",
    "test_count = [y_test.count(i) for i in newlabel]\n",
    "\n",
    "print(train_count)\n",
    "print(test_count)"
   ]
  },
  {
   "cell_type": "markdown",
   "id": "c890c876",
   "metadata": {},
   "source": [
    "### 匯出檔案"
   ]
  },
  {
   "cell_type": "code",
   "execution_count": 23,
   "id": "7bf5b61e",
   "metadata": {},
   "outputs": [
    {
     "name": "stdout",
     "output_type": "stream",
     "text": [
      "Wall time: 30.1 s\n"
     ]
    }
   ],
   "source": [
    "%%time\n",
    "with open(path_go+ '/20train.pkl','wb') as f:\n",
    "    pickle.dump(X_train, f)\n",
    "\n",
    "with open(path_go+ '/20trainlabel.pkl','wb') as f:\n",
    "    pickle.dump(y_train, f)\n",
    "    \n",
    "with open(path_go+ '/20test.pkl','wb') as f:\n",
    "    pickle.dump(X_test, f)\n",
    "\n",
    "with open(path_go+ '/20testlabel.pkl','wb') as f:\n",
    "    pickle.dump(y_test, f)"
   ]
  },
  {
   "cell_type": "markdown",
   "id": "4e63579a",
   "metadata": {},
   "source": [
    "## 切成 train 與 test 後，train 的分佈和數量 ( 共 628514 筆資料 )"
   ]
  },
  {
   "cell_type": "code",
   "execution_count": 28,
   "id": "e6303f46",
   "metadata": {},
   "outputs": [
    {
     "name": "stdout",
     "output_type": "stream",
     "text": [
      "[93632, 80919, 60450, 52893, 52371, 35655, 38727, 27715, 27017, 24801, 21164, 21436, 19182, 12807, 14768, 9589, 9608, 9817, 8211, 7752]\n",
      "共 628514 筆資料\n",
      "平均為 31425 筆資料\n",
      "Wall time: 135 ms\n"
     ]
    }
   ],
   "source": [
    "%%time\n",
    "group20_train = [y_train.count(i) for i in newlabel]\n",
    "mean20_train = int(np.mean(group20_train))\n",
    "\n",
    "print(group20_train)\n",
    "print(f'共 {sum(group20_train)} 筆資料')\n",
    "print(f'平均為 {mean20_train} 筆資料')"
   ]
  },
  {
   "cell_type": "code",
   "execution_count": 31,
   "id": "c7f80390",
   "metadata": {},
   "outputs": [
    {
     "name": "stdout",
     "output_type": "stream",
     "text": [
      "Wall time: 482 ms\n"
     ]
    },
    {
     "data": {
      "image/png": "[encoded data removed]",
      "text/plain": [
       "<Figure size 432x288 with 1 Axes>"
      ]
     },
     "metadata": {
      "needs_background": "light"
     },
     "output_type": "display_data"
    }
   ],
   "source": [
    "%%time\n",
    "#fig= plt.figure(figsize= [16, 12])\n",
    "plt.bar(newlabel, group20_train, color = 'pink')\n",
    "plt.axhline(y=mean20_train, c=\"gray\", ls=\"--\", lw=1.5, label = 'top 20 average')\n",
    "\n",
    "xlabel = [1]+ list(range(5, 20+1, 5))\n",
    "plt.xticks(xlabel) \n",
    "plt.title(f'Top 20 for training, Total = {sum(group20_train)}', size = 14)\n",
    "plt.xlabel('emoji group', size = 12)\n",
    "plt.ylabel('count', size = 12)\n",
    "plt.legend()\n",
    "plt.savefig(path_go+ r'/top20_aftersplit.jpg')"
   ]
  },
  {
   "cell_type": "code",
   "execution_count": null,
   "id": "25093465",
   "metadata": {},
   "outputs": [],
   "source": []
  },
  {
   "cell_type": "code",
   "execution_count": null,
   "id": "715249ff",
   "metadata": {},
   "outputs": [],
   "source": []
  }
 ],
 "metadata": {
  "kernelspec": {
   "display_name": "Python 3 (ipykernel)",
   "language": "python",
   "name": "python3"
  },
  "language_info": {
   "codemirror_mode": {
    "name": "ipython",
    "version": 3
   },
   "file_extension": ".py",
   "mimetype": "text/x-python",
   "name": "python",
   "nbconvert_exporter": "python",
   "pygments_lexer": "ipython3",
   "version": "3.9.7"
  }
 },
 "nbformat": 4,
 "nbformat_minor": 5
}
