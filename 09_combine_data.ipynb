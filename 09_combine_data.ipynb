{
 "cells": [
  {
   "cell_type": "markdown",
   "id": "9eb704ba",
   "metadata": {},
   "source": [
    "## 合併檔案"
   ]
  },
  {
   "cell_type": "code",
   "execution_count": 1,
   "id": "f5d8792d",
   "metadata": {},
   "outputs": [],
   "source": [
    "import pandas as pd"
   ]
  },
  {
   "cell_type": "code",
   "execution_count": 2,
   "id": "e1ce9024",
   "metadata": {},
   "outputs": [],
   "source": [
    "path_go = \"C:/Users/e2414/OneDrive/桌面/專題/AllData/training/\""
   ]
  },
  {
   "cell_type": "code",
   "execution_count": 3,
   "id": "96491221",
   "metadata": {},
   "outputs": [],
   "source": [
    "import warnings\n",
    "warnings.filterwarnings(\"ignore\")"
   ]
  },
  {
   "cell_type": "markdown",
   "id": "7f9dbd46",
   "metadata": {},
   "source": [
    "### word2vec training data"
   ]
  },
  {
   "cell_type": "code",
   "execution_count": 4,
   "id": "197d28be",
   "metadata": {},
   "outputs": [],
   "source": [
    "path_from = \"C:/Users/e2414/OneDrive/桌面/專題/AllData/wordcut/finish_cut/byestop_raw/\""
   ]
  },
  {
   "cell_type": "code",
   "execution_count": 5,
   "id": "1bf3ed89",
   "metadata": {},
   "outputs": [
    {
     "name": "stdout",
     "output_type": "stream",
     "text": [
      "494534\n",
      "Wall time: 2min\n"
     ]
    }
   ],
   "source": [
    "%%time\n",
    "\n",
    "# fb\n",
    "start_ID = 200 \n",
    "end_ID = 265 \n",
    "\n",
    "# 匯入第一個檔案\n",
    "data = pd.read_excel(path_from + \"Raw_nsw_c\" + str(start_ID) + \".xlsx\")\n",
    "\n",
    "# 匯入後續檔案\n",
    "for i in range((start_ID + 1), (end_ID + 1)) :\n",
    "    df = pd.read_excel(path_from + \"Raw_nsw_c\" + str(i) + \".xlsx\") \n",
    "    data = data.append(df) \n",
    "\n",
    "\n",
    "start_ID = 1200 \n",
    "end_ID = 1202 \n",
    "for i in range(start_ID, (end_ID + 1)) :\n",
    "    df = pd.read_excel(path_from + \"Raw_nsw_c\" + str(i) + \".xlsx\") \n",
    "    data = data.append(df) \n",
    "\n",
    "\n",
    "start_ID = 1204 \n",
    "end_ID = 1265 \n",
    "for i in range(start_ID, (end_ID + 1)) :\n",
    "    df = pd.read_excel(path_from + \"Raw_nsw_c\" + str(i) + \".xlsx\") \n",
    "    data = data.append(df) \n",
    "\n",
    "# line\n",
    "start_ID = 280 \n",
    "end_ID = 299 \n",
    "for i in range(start_ID, (end_ID + 1)) :\n",
    "    df = pd.read_excel(path_from + \"Raw_nsw_c\" + str(i) + \".xlsx\") \n",
    "    data = data.append(df) \n",
    "    \n",
    "start_ID = 800 \n",
    "end_ID = 804 \n",
    "for i in range(start_ID, (end_ID + 1)) :\n",
    "    df = pd.read_excel(path_from + \"Raw_nsw_c\" + str(i) + \".xlsx\")\n",
    "    data = data.append(df) \n",
    "\n",
    "    \n",
    "# ig\n",
    "start_ID = 266 \n",
    "end_ID = 279 \n",
    "for i in range(start_ID, (end_ID + 1)) :\n",
    "    df = pd.read_excel(path_from + \"Raw_nsw_c\" + str(i) + \".xlsx\")\n",
    "    data = data.append(df) \n",
    "    \n",
    "start_ID = 805 \n",
    "end_ID = 818 \n",
    "for i in range(start_ID, (end_ID + 1)) :\n",
    "    df = pd.read_excel(path_from + \"Raw_nsw_c\" + str(i) + \".xlsx\") \n",
    "    data = data.append(df) \n",
    "    \n",
    "\n",
    "data = data.drop(\"Unnamed: 0\", axis = 1)\n",
    "print(len(data)) #合併總筆數\n",
    "\n",
    "data.to_excel(path_go + \"Liang_w2v.xlsx\", index= False)"
   ]
  },
  {
   "cell_type": "code",
   "execution_count": null,
   "id": "f66d958c",
   "metadata": {},
   "outputs": [],
   "source": []
  },
  {
   "cell_type": "markdown",
   "id": "a3c55905",
   "metadata": {},
   "source": [
    "<hr>"
   ]
  },
  {
   "cell_type": "markdown",
   "id": "9862aeae",
   "metadata": {},
   "source": [
    "### emoji training data (以後這裡不用合併ㄌ ! 大福寫的會統計group順便合併)"
   ]
  },
  {
   "cell_type": "code",
   "execution_count": 6,
   "id": "fabf6e88",
   "metadata": {},
   "outputs": [],
   "source": [
    "path_from = \"C:/Users/e2414/OneDrive/桌面/專題/AllData/wordcut/finish_cut/byestop_emoji/\""
   ]
  },
  {
   "cell_type": "code",
   "execution_count": 7,
   "id": "df654db5",
   "metadata": {},
   "outputs": [
    {
     "name": "stdout",
     "output_type": "stream",
     "text": [
      "159028\n",
      "Wall time: 47.3 s\n"
     ]
    }
   ],
   "source": [
    "%%time\n",
    "\n",
    "# fb\n",
    "start_ID = 200 \n",
    "end_ID = 265 \n",
    "\n",
    "# 匯入第一個檔案\n",
    "data = pd.read_excel(path_from + \"emoji_nsw_c\" + str(start_ID) + \".xlsx\")\n",
    "\n",
    "# 匯入後續檔案\n",
    "for i in range((start_ID + 1), (end_ID + 1)) :\n",
    "    df = pd.read_excel(path_from + \"emoji_nsw_c\" + str(i) + \".xlsx\") \n",
    "    data = data.append(df) \n",
    "\n",
    "\n",
    "start_ID = 1201 \n",
    "end_ID = 1202 \n",
    "for i in range(start_ID, (end_ID + 1)) :\n",
    "    df = pd.read_excel(path_from + \"emoji_nsw_c\" + str(i) + \".xlsx\") \n",
    "    data = data.append(df) \n",
    "\n",
    "\n",
    "start_ID = 1204 \n",
    "end_ID = 1265 \n",
    "for i in range(start_ID, (end_ID + 1)) :\n",
    "    df = pd.read_excel(path_from + \"emoji_nsw_c\" + str(i) + \".xlsx\") \n",
    "    data = data.append(df) \n",
    "\n",
    "# line\n",
    "start_ID = 280 \n",
    "end_ID = 299 \n",
    "for i in range(start_ID, (end_ID + 1)) :\n",
    "    df = pd.read_excel(path_from + \"emoji_nsw_c\" + str(i) + \".xlsx\") \n",
    "    data = data.append(df) \n",
    "    \n",
    "start_ID = 800 \n",
    "end_ID = 804 \n",
    "for i in range(start_ID, (end_ID + 1)) :\n",
    "    df = pd.read_excel(path_from + \"emoji_nsw_c\" + str(i) + \".xlsx\")\n",
    "    data = data.append(df) \n",
    "\n",
    "    \n",
    "# ig\n",
    "start_ID = 266 \n",
    "end_ID = 279 \n",
    "for i in range(start_ID, (end_ID + 1)) :\n",
    "    df = pd.read_excel(path_from + \"emoji_nsw_c\" + str(i) + \".xlsx\")\n",
    "    data = data.append(df) \n",
    "    \n",
    "start_ID = 805 \n",
    "end_ID = 811 \n",
    "for i in range(start_ID, (end_ID + 1)) :\n",
    "    df = pd.read_excel(path_from + \"emoji_nsw_c\" + str(i) + \".xlsx\") \n",
    "    data = data.append(df) \n",
    "    \n",
    "\n",
    "data = data.drop(\"Unnamed: 0\", axis = 1)\n",
    "print(len(data)) #合併總筆數\n",
    "\n",
    "data.to_excel(path_go + \"Liang_emoji.xlsx\", index= False)"
   ]
  },
  {
   "cell_type": "code",
   "execution_count": null,
   "id": "c48a1aa7",
   "metadata": {},
   "outputs": [],
   "source": []
  }
 ],
 "metadata": {
  "kernelspec": {
   "display_name": "Python 3 (ipykernel)",
   "language": "python",
   "name": "python3"
  },
  "language_info": {
   "codemirror_mode": {
    "name": "ipython",
    "version": 3
   },
   "file_extension": ".py",
   "mimetype": "text/x-python",
   "name": "python",
   "nbconvert_exporter": "python",
   "pygments_lexer": "ipython3",
   "version": "3.9.7"
  }
 },
 "nbformat": 4,
 "nbformat_minor": 5
}
