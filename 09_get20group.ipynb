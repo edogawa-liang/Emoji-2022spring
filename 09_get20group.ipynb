{
 "cells": [
  {
   "cell_type": "markdown",
   "id": "701a2713",
   "metadata": {},
   "source": [
    "# 取出前 20 group"
   ]
  },
  {
   "cell_type": "code",
   "execution_count": 3,
   "id": "9dbc50ac",
   "metadata": {},
   "outputs": [],
   "source": [
    "import pandas as pd\n",
    "import numpy as np\n",
    "import matplotlib.pyplot as plt\n",
    "import pickle\n",
    "import time, math\n",
    "\n",
    "from sklearn.model_selection import train_test_split\n",
    "\n",
    "import warnings\n",
    "warnings.filterwarnings(\"ignore\")"
   ]
  },
  {
   "cell_type": "code",
   "execution_count": 27,
   "id": "7d875104",
   "metadata": {},
   "outputs": [],
   "source": [
    "#path_ = r'C:\\Users\\e2414\\OneDrive\\桌面\\專題\\AllData\\training'  #資料從哪裡來\n",
    "path_ = r'E:\\專題\\AllData\\training\\final_training' \n",
    "\n",
    "path_test = r'E:\\專題\\AllData\\training\\final_training\\測試集再sampling'\n",
    "path_ori = r'E:\\專題\\AllData\\training\\final_training\\原始資料'\n",
    "path_imb = r'E:\\專題\\AllData\\training\\final_training\\十萬imbal'\n",
    "path_pca = r'E:\\專題\\AllData\\training\\final_training\\PCA'\n",
    "path_bal = r'E:\\專題\\AllData\\training\\final_training\\較bal'\n",
    "#path_tsne = r'E:\\專題\\AllData\\training\\final_training\\tsne'"
   ]
  },
  {
   "cell_type": "code",
   "execution_count": 5,
   "id": "fb1630a6",
   "metadata": {},
   "outputs": [
    {
     "name": "stdout",
     "output_type": "stream",
     "text": [
      "Wall time: 980 ms\n"
     ]
    }
   ],
   "source": [
    "%%time\n",
    "with open(path_bal + r\"\\X_train_pc20_sam.pkl\", \"rb\") as f:\n",
    "    train = pickle.load(f)\n",
    "    \n",
    "with open(path_bal + r\"\\y_train_pc20_sam.pkl\", \"rb\") as f:\n",
    "    trainlabel = pickle.load(f)\n",
    "    \n",
    "\n",
    "# test\n",
    "with open(path_pca+ r\"\\X_test_total_pc20.pkl\", \"rb\") as f:\n",
    "    X_test = pickle.load(f)\n",
    "    \n",
    "with open(path_ori+ r\"\\y_test.pkl\", \"rb\") as f:\n",
    "    y_test = pickle.load(f)\n",
    "    \n",
    "    "
   ]
  },
  {
   "cell_type": "code",
   "execution_count": 6,
   "id": "94bfbec8",
   "metadata": {},
   "outputs": [
    {
     "name": "stdout",
     "output_type": "stream",
     "text": [
      "(58291, 20)\n",
      "58291\n",
      "(82884, 20)\n",
      "82884\n"
     ]
    }
   ],
   "source": [
    "train = np.array(train)\n",
    "X_test = np.array(X_test)\n",
    "\n",
    "print(train.shape)\n",
    "print(len(trainlabel))\n",
    "\n",
    "print(X_test.shape)\n",
    "print(len(y_test))"
   ]
  },
  {
   "cell_type": "code",
   "execution_count": 14,
   "id": "e6b8cd39",
   "metadata": {},
   "outputs": [],
   "source": [
    "trainlabel = trainlabel.tolist()"
   ]
  },
  {
   "cell_type": "markdown",
   "id": "98a1b2b0",
   "metadata": {},
   "source": [
    "## train、test 都要取出前 20 group"
   ]
  },
  {
   "cell_type": "code",
   "execution_count": 15,
   "id": "fa10e596",
   "metadata": {},
   "outputs": [],
   "source": [
    "label = list(range(1, 40+1))"
   ]
  },
  {
   "cell_type": "code",
   "execution_count": 16,
   "id": "15929d7a",
   "metadata": {},
   "outputs": [
    {
     "name": "stdout",
     "output_type": "stream",
     "text": [
      "[1500, 1500, 1500, 1500, 1500, 1500, 1500, 1500, 1500, 1500, 1500, 1500, 1500, 1500, 1500, 1500, 1500, 1500, 1500, 1500, 1500, 1500, 1500, 1500, 1500, 1500, 1500, 1500, 1500, 1500, 1500, 1500, 1500, 1500, 1447, 1431, 1182, 1238, 1092, 901]\n",
      "共 58291 筆資料\n",
      "Wall time: 25 ms\n"
     ]
    }
   ],
   "source": [
    "%%time\n",
    "original_group = [trainlabel.count(i) for i in label]\n",
    "print(original_group)\n",
    "print(f'共 {sum(original_group)} 筆資料')"
   ]
  },
  {
   "cell_type": "code",
   "execution_count": 17,
   "id": "462c7eca",
   "metadata": {},
   "outputs": [],
   "source": [
    "newlabel = list(range(1, 20+1))"
   ]
  },
  {
   "cell_type": "code",
   "execution_count": 18,
   "id": "1fb6260a",
   "metadata": {},
   "outputs": [
    {
     "name": "stdout",
     "output_type": "stream",
     "text": [
      "[1, 2, 3, 4, 5, 6, 7, 8, 9, 10, 11, 12, 13, 14, 15, 16, 17, 18, 19, 20]\n",
      "1500.0\n",
      "[1500, 1500, 1500, 1500, 1500, 1500, 1500, 1500, 1500, 1500, 1500, 1500, 1500, 1500, 1500, 1500, 1500, 1500, 1500, 1500]\n"
     ]
    }
   ],
   "source": [
    "mean20 = np.mean(original_group[:20])\n",
    "group20 = original_group[:20]\n",
    "print(newlabel)\n",
    "print(mean20)\n",
    "print(group20)"
   ]
  },
  {
   "cell_type": "code",
   "execution_count": 19,
   "id": "7e02d49b",
   "metadata": {},
   "outputs": [
    {
     "name": "stdout",
     "output_type": "stream",
     "text": [
      "(30000, 20)\n",
      "30000\n"
     ]
    }
   ],
   "source": [
    "newgroup_loc = [i for i,v in list(enumerate(trainlabel)) if v in newlabel]\n",
    "\n",
    "newtrain = train[newgroup_loc, ]\n",
    "newtrainlabel = [trainlabel[i] for i in newgroup_loc]\n",
    "\n",
    "print(newtrain.shape)\n",
    "print(len(newtrainlabel))"
   ]
  },
  {
   "cell_type": "code",
   "execution_count": 34,
   "id": "000c183f",
   "metadata": {},
   "outputs": [],
   "source": [
    "with open(path_bal + r\"\\X_train_pc20_sam_g20.pkl\",'wb') as f:\n",
    "    pickle.dump(newtrain, f)\n",
    "    \n",
    "with open(path_bal+ r\"\\y_train_pc20_sam_g20.pkl\",'wb') as f:\n",
    "    pickle.dump(newtrainlabel, f)"
   ]
  },
  {
   "cell_type": "markdown",
   "id": "366aeb6c",
   "metadata": {},
   "source": [
    "### 測試集"
   ]
  },
  {
   "cell_type": "code",
   "execution_count": 36,
   "id": "72815a82",
   "metadata": {},
   "outputs": [
    {
     "name": "stdout",
     "output_type": "stream",
     "text": [
      "(75173, 20)\n",
      "75173\n"
     ]
    }
   ],
   "source": [
    "newgroup_loc = [i for i,v in list(enumerate(y_test)) if v in newlabel]\n",
    "\n",
    "newtest = X_test[newgroup_loc, ]\n",
    "newtestlabel = [y_test[i] for i in newgroup_loc]\n",
    "\n",
    "print(newtest.shape)\n",
    "print(len(newtestlabel))"
   ]
  },
  {
   "cell_type": "code",
   "execution_count": 1,
   "id": "c528acb9",
   "metadata": {},
   "outputs": [],
   "source": [
    "%%time\n",
    "with open(path_pca+ r\"\\X_test_total_pc20_g20.pkl\",'wb') as f:\n",
    "    pickle.dump(newtest, f)\n",
    "    \n",
    "with open(path_ori+ r\"\\y_test_g20.pkl\",'wb') as f:\n",
    "    pickle.dump(newtestlabel, f)"
   ]
  },
  {
   "cell_type": "code",
   "execution_count": null,
   "id": "f06582fb",
   "metadata": {},
   "outputs": [],
   "source": []
  },
  {
   "cell_type": "code",
   "execution_count": null,
   "id": "dae09350",
   "metadata": {},
   "outputs": [],
   "source": []
  }
 ],
 "metadata": {
  "kernelspec": {
   "display_name": "Python 3 (ipykernel)",
   "language": "python",
   "name": "python3"
  },
  "language_info": {
   "codemirror_mode": {
    "name": "ipython",
    "version": 3
   },
   "file_extension": ".py",
   "mimetype": "text/x-python",
   "name": "python",
   "nbconvert_exporter": "python",
   "pygments_lexer": "ipython3",
   "version": "3.11.5"
  }
 },
 "nbformat": 4,
 "nbformat_minor": 5
}
